{
 "cells": [
  {
   "cell_type": "code",
   "execution_count": 251,
   "id": "182575a8-50e7-4dec-a775-de081b3ef47a",
   "metadata": {
    "tags": []
   },
   "outputs": [],
   "source": [
    "import pandas as pd \n",
    "import numpy as np\n",
    "import seaborn as sns\n",
    "import matplotlib.pyplot as plt\n",
    "%matplotlib inline"
   ]
  },
  {
   "cell_type": "code",
   "execution_count": 252,
   "id": "0967a8b1-d445-484e-86aa-0d297c899dfb",
   "metadata": {
    "tags": []
   },
   "outputs": [],
   "source": [
    "fortnite = pd.read_csv('Fortnite Statistics.csv')\n",
    "df = fortnite.copy()"
   ]
  },
  {
   "cell_type": "code",
   "execution_count": 253,
   "id": "d903748c-bff2-4c1d-ba0e-9273c21aa456",
   "metadata": {
    "tags": []
   },
   "outputs": [
    {
     "data": {
      "text/html": [
       "<div>\n",
       "<style scoped>\n",
       "    .dataframe tbody tr th:only-of-type {\n",
       "        vertical-align: middle;\n",
       "    }\n",
       "\n",
       "    .dataframe tbody tr th {\n",
       "        vertical-align: top;\n",
       "    }\n",
       "\n",
       "    .dataframe thead th {\n",
       "        text-align: right;\n",
       "    }\n",
       "</style>\n",
       "<table border=\"1\" class=\"dataframe\">\n",
       "  <thead>\n",
       "    <tr style=\"text-align: right;\">\n",
       "      <th></th>\n",
       "      <th>Date</th>\n",
       "      <th>Time of Day</th>\n",
       "      <th>Placed</th>\n",
       "      <th>Mental State</th>\n",
       "      <th>Eliminations</th>\n",
       "      <th>Assists</th>\n",
       "      <th>Revives</th>\n",
       "      <th>Accuracy</th>\n",
       "      <th>Hits</th>\n",
       "      <th>Head Shots</th>\n",
       "      <th>Distance Traveled</th>\n",
       "      <th>Materials Gathered</th>\n",
       "      <th>Materials Used</th>\n",
       "      <th>Damage Taken</th>\n",
       "      <th>Damage to Players</th>\n",
       "      <th>Damage to Structures</th>\n",
       "    </tr>\n",
       "  </thead>\n",
       "  <tbody>\n",
       "    <tr>\n",
       "      <th>0</th>\n",
       "      <td>4/10</td>\n",
       "      <td>6:00 PM</td>\n",
       "      <td>27</td>\n",
       "      <td>sober</td>\n",
       "      <td>2</td>\n",
       "      <td>0</td>\n",
       "      <td>0</td>\n",
       "      <td>23%</td>\n",
       "      <td>14</td>\n",
       "      <td>2</td>\n",
       "      <td>271.08</td>\n",
       "      <td>20</td>\n",
       "      <td>20</td>\n",
       "      <td>272</td>\n",
       "      <td>331</td>\n",
       "      <td>621</td>\n",
       "    </tr>\n",
       "    <tr>\n",
       "      <th>1</th>\n",
       "      <td>4/10</td>\n",
       "      <td>6:00 PM</td>\n",
       "      <td>45</td>\n",
       "      <td>sober</td>\n",
       "      <td>1</td>\n",
       "      <td>2</td>\n",
       "      <td>0</td>\n",
       "      <td>30%</td>\n",
       "      <td>19</td>\n",
       "      <td>1</td>\n",
       "      <td>396.73</td>\n",
       "      <td>123</td>\n",
       "      <td>30</td>\n",
       "      <td>247</td>\n",
       "      <td>444</td>\n",
       "      <td>998</td>\n",
       "    </tr>\n",
       "    <tr>\n",
       "      <th>2</th>\n",
       "      <td>4/10</td>\n",
       "      <td>6:00 PM</td>\n",
       "      <td>38</td>\n",
       "      <td>high</td>\n",
       "      <td>3</td>\n",
       "      <td>0</td>\n",
       "      <td>0</td>\n",
       "      <td>30%</td>\n",
       "      <td>32</td>\n",
       "      <td>1</td>\n",
       "      <td>607.80</td>\n",
       "      <td>71</td>\n",
       "      <td>60</td>\n",
       "      <td>176</td>\n",
       "      <td>322</td>\n",
       "      <td>1109</td>\n",
       "    </tr>\n",
       "    <tr>\n",
       "      <th>3</th>\n",
       "      <td>4/10</td>\n",
       "      <td>7:00 PM</td>\n",
       "      <td>30</td>\n",
       "      <td>high</td>\n",
       "      <td>1</td>\n",
       "      <td>3</td>\n",
       "      <td>0</td>\n",
       "      <td>18%</td>\n",
       "      <td>19</td>\n",
       "      <td>1</td>\n",
       "      <td>714.16</td>\n",
       "      <td>244</td>\n",
       "      <td>10</td>\n",
       "      <td>238</td>\n",
       "      <td>330</td>\n",
       "      <td>4726</td>\n",
       "    </tr>\n",
       "    <tr>\n",
       "      <th>4</th>\n",
       "      <td>4/10</td>\n",
       "      <td>7:00 PM</td>\n",
       "      <td>16</td>\n",
       "      <td>high</td>\n",
       "      <td>3</td>\n",
       "      <td>1</td>\n",
       "      <td>1</td>\n",
       "      <td>58%</td>\n",
       "      <td>42</td>\n",
       "      <td>18</td>\n",
       "      <td>1140.00</td>\n",
       "      <td>584</td>\n",
       "      <td>150</td>\n",
       "      <td>365</td>\n",
       "      <td>668</td>\n",
       "      <td>2070</td>\n",
       "    </tr>\n",
       "  </tbody>\n",
       "</table>\n",
       "</div>"
      ],
      "text/plain": [
       "   Date Time of Day  Placed Mental State  Eliminations  Assists  Revives  \\\n",
       "0  4/10     6:00 PM      27        sober             2        0        0   \n",
       "1  4/10     6:00 PM      45        sober             1        2        0   \n",
       "2  4/10     6:00 PM      38         high             3        0        0   \n",
       "3  4/10     7:00 PM      30         high             1        3        0   \n",
       "4  4/10     7:00 PM      16         high             3        1        1   \n",
       "\n",
       "  Accuracy  Hits  Head Shots  Distance Traveled  Materials Gathered  \\\n",
       "0      23%    14           2             271.08                  20   \n",
       "1      30%    19           1             396.73                 123   \n",
       "2      30%    32           1             607.80                  71   \n",
       "3      18%    19           1             714.16                 244   \n",
       "4      58%    42          18            1140.00                 584   \n",
       "\n",
       "   Materials Used  Damage Taken  Damage to Players  Damage to Structures  \n",
       "0              20           272                331                   621  \n",
       "1              30           247                444                   998  \n",
       "2              60           176                322                  1109  \n",
       "3              10           238                330                  4726  \n",
       "4             150           365                668                  2070  "
      ]
     },
     "execution_count": 253,
     "metadata": {},
     "output_type": "execute_result"
    }
   ],
   "source": [
    "df.head()"
   ]
  },
  {
   "cell_type": "code",
   "execution_count": 254,
   "id": "f10bf92a-2e92-4b65-b7bb-805d2bc6597a",
   "metadata": {
    "tags": []
   },
   "outputs": [
    {
     "data": {
      "text/plain": [
       "Date                    0\n",
       "Time of Day             0\n",
       "Placed                  0\n",
       "Mental State            0\n",
       "Eliminations            0\n",
       "Assists                 0\n",
       "Revives                 0\n",
       "Accuracy                0\n",
       "Hits                    0\n",
       "Head Shots              0\n",
       "Distance Traveled       0\n",
       "Materials Gathered      0\n",
       "Materials Used          0\n",
       "Damage Taken            0\n",
       "Damage to Players       0\n",
       "Damage to Structures    0\n",
       "dtype: int64"
      ]
     },
     "execution_count": 254,
     "metadata": {},
     "output_type": "execute_result"
    }
   ],
   "source": [
    "df.isnull().sum()"
   ]
  },
  {
   "cell_type": "code",
   "execution_count": 255,
   "id": "bae147f8-931b-42ea-b54d-5d885d2b5b29",
   "metadata": {
    "tags": []
   },
   "outputs": [
    {
     "name": "stdout",
     "output_type": "stream",
     "text": [
      "<class 'pandas.core.frame.DataFrame'>\n",
      "RangeIndex: 87 entries, 0 to 86\n",
      "Data columns (total 16 columns):\n",
      " #   Column                Non-Null Count  Dtype  \n",
      "---  ------                --------------  -----  \n",
      " 0   Date                  87 non-null     object \n",
      " 1   Time of Day           87 non-null     object \n",
      " 2   Placed                87 non-null     int64  \n",
      " 3   Mental State          87 non-null     object \n",
      " 4   Eliminations          87 non-null     int64  \n",
      " 5   Assists               87 non-null     int64  \n",
      " 6   Revives               87 non-null     int64  \n",
      " 7   Accuracy              87 non-null     object \n",
      " 8   Hits                  87 non-null     int64  \n",
      " 9   Head Shots            87 non-null     int64  \n",
      " 10  Distance Traveled     87 non-null     float64\n",
      " 11  Materials Gathered    87 non-null     int64  \n",
      " 12  Materials Used        87 non-null     int64  \n",
      " 13  Damage Taken          87 non-null     int64  \n",
      " 14  Damage to Players     87 non-null     int64  \n",
      " 15  Damage to Structures  87 non-null     int64  \n",
      "dtypes: float64(1), int64(11), object(4)\n",
      "memory usage: 11.0+ KB\n"
     ]
    }
   ],
   "source": [
    "df.info()"
   ]
  },
  {
   "cell_type": "code",
   "execution_count": 256,
   "id": "775fe446-b8d7-425e-badf-e26de76fccf7",
   "metadata": {
    "tags": []
   },
   "outputs": [
    {
     "data": {
      "text/html": [
       "<div>\n",
       "<style scoped>\n",
       "    .dataframe tbody tr th:only-of-type {\n",
       "        vertical-align: middle;\n",
       "    }\n",
       "\n",
       "    .dataframe tbody tr th {\n",
       "        vertical-align: top;\n",
       "    }\n",
       "\n",
       "    .dataframe thead th {\n",
       "        text-align: right;\n",
       "    }\n",
       "</style>\n",
       "<table border=\"1\" class=\"dataframe\">\n",
       "  <thead>\n",
       "    <tr style=\"text-align: right;\">\n",
       "      <th></th>\n",
       "      <th>count</th>\n",
       "      <th>mean</th>\n",
       "      <th>std</th>\n",
       "      <th>min</th>\n",
       "      <th>25%</th>\n",
       "      <th>50%</th>\n",
       "      <th>75%</th>\n",
       "      <th>max</th>\n",
       "    </tr>\n",
       "  </thead>\n",
       "  <tbody>\n",
       "    <tr>\n",
       "      <th>Placed</th>\n",
       "      <td>87.0</td>\n",
       "      <td>22.045977</td>\n",
       "      <td>13.145791</td>\n",
       "      <td>1.00</td>\n",
       "      <td>15.00</td>\n",
       "      <td>21.00</td>\n",
       "      <td>28.5</td>\n",
       "      <td>66.0</td>\n",
       "    </tr>\n",
       "    <tr>\n",
       "      <th>Eliminations</th>\n",
       "      <td>87.0</td>\n",
       "      <td>2.517241</td>\n",
       "      <td>1.885453</td>\n",
       "      <td>0.00</td>\n",
       "      <td>1.00</td>\n",
       "      <td>2.00</td>\n",
       "      <td>3.0</td>\n",
       "      <td>8.0</td>\n",
       "    </tr>\n",
       "    <tr>\n",
       "      <th>Assists</th>\n",
       "      <td>87.0</td>\n",
       "      <td>1.482759</td>\n",
       "      <td>1.388173</td>\n",
       "      <td>0.00</td>\n",
       "      <td>0.00</td>\n",
       "      <td>1.00</td>\n",
       "      <td>2.0</td>\n",
       "      <td>6.0</td>\n",
       "    </tr>\n",
       "    <tr>\n",
       "      <th>Revives</th>\n",
       "      <td>87.0</td>\n",
       "      <td>0.402299</td>\n",
       "      <td>0.738631</td>\n",
       "      <td>0.00</td>\n",
       "      <td>0.00</td>\n",
       "      <td>0.00</td>\n",
       "      <td>1.0</td>\n",
       "      <td>4.0</td>\n",
       "    </tr>\n",
       "    <tr>\n",
       "      <th>Hits</th>\n",
       "      <td>87.0</td>\n",
       "      <td>29.735632</td>\n",
       "      <td>22.093596</td>\n",
       "      <td>1.00</td>\n",
       "      <td>12.00</td>\n",
       "      <td>27.00</td>\n",
       "      <td>38.0</td>\n",
       "      <td>105.0</td>\n",
       "    </tr>\n",
       "    <tr>\n",
       "      <th>Head Shots</th>\n",
       "      <td>87.0</td>\n",
       "      <td>4.747126</td>\n",
       "      <td>5.777298</td>\n",
       "      <td>0.00</td>\n",
       "      <td>1.00</td>\n",
       "      <td>3.00</td>\n",
       "      <td>6.5</td>\n",
       "      <td>33.0</td>\n",
       "    </tr>\n",
       "    <tr>\n",
       "      <th>Distance Traveled</th>\n",
       "      <td>87.0</td>\n",
       "      <td>1137.146322</td>\n",
       "      <td>1110.843642</td>\n",
       "      <td>17.86</td>\n",
       "      <td>398.28</td>\n",
       "      <td>638.17</td>\n",
       "      <td>1575.0</td>\n",
       "      <td>4460.0</td>\n",
       "    </tr>\n",
       "    <tr>\n",
       "      <th>Materials Gathered</th>\n",
       "      <td>87.0</td>\n",
       "      <td>386.574713</td>\n",
       "      <td>569.978062</td>\n",
       "      <td>0.00</td>\n",
       "      <td>75.00</td>\n",
       "      <td>164.00</td>\n",
       "      <td>418.5</td>\n",
       "      <td>3002.0</td>\n",
       "    </tr>\n",
       "    <tr>\n",
       "      <th>Materials Used</th>\n",
       "      <td>87.0</td>\n",
       "      <td>122.712644</td>\n",
       "      <td>225.170370</td>\n",
       "      <td>0.00</td>\n",
       "      <td>20.00</td>\n",
       "      <td>50.00</td>\n",
       "      <td>145.0</td>\n",
       "      <td>1740.0</td>\n",
       "    </tr>\n",
       "    <tr>\n",
       "      <th>Damage Taken</th>\n",
       "      <td>87.0</td>\n",
       "      <td>244.172414</td>\n",
       "      <td>124.937399</td>\n",
       "      <td>19.00</td>\n",
       "      <td>154.00</td>\n",
       "      <td>209.00</td>\n",
       "      <td>316.5</td>\n",
       "      <td>677.0</td>\n",
       "    </tr>\n",
       "    <tr>\n",
       "      <th>Damage to Players</th>\n",
       "      <td>87.0</td>\n",
       "      <td>581.770115</td>\n",
       "      <td>354.172396</td>\n",
       "      <td>60.00</td>\n",
       "      <td>328.50</td>\n",
       "      <td>481.00</td>\n",
       "      <td>750.0</td>\n",
       "      <td>1507.0</td>\n",
       "    </tr>\n",
       "    <tr>\n",
       "      <th>Damage to Structures</th>\n",
       "      <td>87.0</td>\n",
       "      <td>3170.919540</td>\n",
       "      <td>3458.541070</td>\n",
       "      <td>175.00</td>\n",
       "      <td>1094.00</td>\n",
       "      <td>2029.00</td>\n",
       "      <td>3707.0</td>\n",
       "      <td>18026.0</td>\n",
       "    </tr>\n",
       "  </tbody>\n",
       "</table>\n",
       "</div>"
      ],
      "text/plain": [
       "                      count         mean          std     min      25%  \\\n",
       "Placed                 87.0    22.045977    13.145791    1.00    15.00   \n",
       "Eliminations           87.0     2.517241     1.885453    0.00     1.00   \n",
       "Assists                87.0     1.482759     1.388173    0.00     0.00   \n",
       "Revives                87.0     0.402299     0.738631    0.00     0.00   \n",
       "Hits                   87.0    29.735632    22.093596    1.00    12.00   \n",
       "Head Shots             87.0     4.747126     5.777298    0.00     1.00   \n",
       "Distance Traveled      87.0  1137.146322  1110.843642   17.86   398.28   \n",
       "Materials Gathered     87.0   386.574713   569.978062    0.00    75.00   \n",
       "Materials Used         87.0   122.712644   225.170370    0.00    20.00   \n",
       "Damage Taken           87.0   244.172414   124.937399   19.00   154.00   \n",
       "Damage to Players      87.0   581.770115   354.172396   60.00   328.50   \n",
       "Damage to Structures   87.0  3170.919540  3458.541070  175.00  1094.00   \n",
       "\n",
       "                          50%     75%      max  \n",
       "Placed                  21.00    28.5     66.0  \n",
       "Eliminations             2.00     3.0      8.0  \n",
       "Assists                  1.00     2.0      6.0  \n",
       "Revives                  0.00     1.0      4.0  \n",
       "Hits                    27.00    38.0    105.0  \n",
       "Head Shots               3.00     6.5     33.0  \n",
       "Distance Traveled      638.17  1575.0   4460.0  \n",
       "Materials Gathered     164.00   418.5   3002.0  \n",
       "Materials Used          50.00   145.0   1740.0  \n",
       "Damage Taken           209.00   316.5    677.0  \n",
       "Damage to Players      481.00   750.0   1507.0  \n",
       "Damage to Structures  2029.00  3707.0  18026.0  "
      ]
     },
     "execution_count": 256,
     "metadata": {},
     "output_type": "execute_result"
    }
   ],
   "source": [
    "df.describe().T"
   ]
  },
  {
   "cell_type": "code",
   "execution_count": 257,
   "id": "348d061c-cf5a-4425-be4f-f17ed16fea0f",
   "metadata": {
    "tags": []
   },
   "outputs": [
    {
     "name": "stderr",
     "output_type": "stream",
     "text": [
      "/var/folders/gf/f54qhm4d7mb1zzqch8zq5q8w0000gn/T/ipykernel_19519/1134722465.py:1: FutureWarning: The default value of numeric_only in DataFrame.corr is deprecated. In a future version, it will default to False. Select only valid columns or specify the value of numeric_only to silence this warning.\n",
      "  df.corr()\n"
     ]
    },
    {
     "data": {
      "text/html": [
       "<div>\n",
       "<style scoped>\n",
       "    .dataframe tbody tr th:only-of-type {\n",
       "        vertical-align: middle;\n",
       "    }\n",
       "\n",
       "    .dataframe tbody tr th {\n",
       "        vertical-align: top;\n",
       "    }\n",
       "\n",
       "    .dataframe thead th {\n",
       "        text-align: right;\n",
       "    }\n",
       "</style>\n",
       "<table border=\"1\" class=\"dataframe\">\n",
       "  <thead>\n",
       "    <tr style=\"text-align: right;\">\n",
       "      <th></th>\n",
       "      <th>Placed</th>\n",
       "      <th>Eliminations</th>\n",
       "      <th>Assists</th>\n",
       "      <th>Revives</th>\n",
       "      <th>Hits</th>\n",
       "      <th>Head Shots</th>\n",
       "      <th>Distance Traveled</th>\n",
       "      <th>Materials Gathered</th>\n",
       "      <th>Materials Used</th>\n",
       "      <th>Damage Taken</th>\n",
       "      <th>Damage to Players</th>\n",
       "      <th>Damage to Structures</th>\n",
       "    </tr>\n",
       "  </thead>\n",
       "  <tbody>\n",
       "    <tr>\n",
       "      <th>Placed</th>\n",
       "      <td>1.000000</td>\n",
       "      <td>-0.620700</td>\n",
       "      <td>-0.379723</td>\n",
       "      <td>-0.308495</td>\n",
       "      <td>-0.443354</td>\n",
       "      <td>-0.316161</td>\n",
       "      <td>-0.770639</td>\n",
       "      <td>-0.569598</td>\n",
       "      <td>-0.529942</td>\n",
       "      <td>-0.443081</td>\n",
       "      <td>-0.608608</td>\n",
       "      <td>-0.579788</td>\n",
       "    </tr>\n",
       "    <tr>\n",
       "      <th>Eliminations</th>\n",
       "      <td>-0.620700</td>\n",
       "      <td>1.000000</td>\n",
       "      <td>0.094521</td>\n",
       "      <td>0.266319</td>\n",
       "      <td>0.665995</td>\n",
       "      <td>0.363349</td>\n",
       "      <td>0.698474</td>\n",
       "      <td>0.705802</td>\n",
       "      <td>0.635065</td>\n",
       "      <td>0.369043</td>\n",
       "      <td>0.853151</td>\n",
       "      <td>0.611652</td>\n",
       "    </tr>\n",
       "    <tr>\n",
       "      <th>Assists</th>\n",
       "      <td>-0.379723</td>\n",
       "      <td>0.094521</td>\n",
       "      <td>1.000000</td>\n",
       "      <td>0.239323</td>\n",
       "      <td>0.211216</td>\n",
       "      <td>0.157487</td>\n",
       "      <td>0.421262</td>\n",
       "      <td>0.186226</td>\n",
       "      <td>0.128232</td>\n",
       "      <td>0.248184</td>\n",
       "      <td>0.265802</td>\n",
       "      <td>0.195581</td>\n",
       "    </tr>\n",
       "    <tr>\n",
       "      <th>Revives</th>\n",
       "      <td>-0.308495</td>\n",
       "      <td>0.266319</td>\n",
       "      <td>0.239323</td>\n",
       "      <td>1.000000</td>\n",
       "      <td>0.238168</td>\n",
       "      <td>0.176711</td>\n",
       "      <td>0.177137</td>\n",
       "      <td>0.118319</td>\n",
       "      <td>0.180731</td>\n",
       "      <td>0.037167</td>\n",
       "      <td>0.319366</td>\n",
       "      <td>0.136580</td>\n",
       "    </tr>\n",
       "    <tr>\n",
       "      <th>Hits</th>\n",
       "      <td>-0.443354</td>\n",
       "      <td>0.665995</td>\n",
       "      <td>0.211216</td>\n",
       "      <td>0.238168</td>\n",
       "      <td>1.000000</td>\n",
       "      <td>0.669589</td>\n",
       "      <td>0.403652</td>\n",
       "      <td>0.397026</td>\n",
       "      <td>0.249932</td>\n",
       "      <td>0.456642</td>\n",
       "      <td>0.788184</td>\n",
       "      <td>0.275422</td>\n",
       "    </tr>\n",
       "    <tr>\n",
       "      <th>Head Shots</th>\n",
       "      <td>-0.316161</td>\n",
       "      <td>0.363349</td>\n",
       "      <td>0.157487</td>\n",
       "      <td>0.176711</td>\n",
       "      <td>0.669589</td>\n",
       "      <td>1.000000</td>\n",
       "      <td>0.169609</td>\n",
       "      <td>0.182189</td>\n",
       "      <td>0.085610</td>\n",
       "      <td>0.349639</td>\n",
       "      <td>0.623937</td>\n",
       "      <td>0.170979</td>\n",
       "    </tr>\n",
       "    <tr>\n",
       "      <th>Distance Traveled</th>\n",
       "      <td>-0.770639</td>\n",
       "      <td>0.698474</td>\n",
       "      <td>0.421262</td>\n",
       "      <td>0.177137</td>\n",
       "      <td>0.403652</td>\n",
       "      <td>0.169609</td>\n",
       "      <td>1.000000</td>\n",
       "      <td>0.761612</td>\n",
       "      <td>0.743889</td>\n",
       "      <td>0.404715</td>\n",
       "      <td>0.640265</td>\n",
       "      <td>0.704739</td>\n",
       "    </tr>\n",
       "    <tr>\n",
       "      <th>Materials Gathered</th>\n",
       "      <td>-0.569598</td>\n",
       "      <td>0.705802</td>\n",
       "      <td>0.186226</td>\n",
       "      <td>0.118319</td>\n",
       "      <td>0.397026</td>\n",
       "      <td>0.182189</td>\n",
       "      <td>0.761612</td>\n",
       "      <td>1.000000</td>\n",
       "      <td>0.810661</td>\n",
       "      <td>0.336700</td>\n",
       "      <td>0.622959</td>\n",
       "      <td>0.596698</td>\n",
       "    </tr>\n",
       "    <tr>\n",
       "      <th>Materials Used</th>\n",
       "      <td>-0.529942</td>\n",
       "      <td>0.635065</td>\n",
       "      <td>0.128232</td>\n",
       "      <td>0.180731</td>\n",
       "      <td>0.249932</td>\n",
       "      <td>0.085610</td>\n",
       "      <td>0.743889</td>\n",
       "      <td>0.810661</td>\n",
       "      <td>1.000000</td>\n",
       "      <td>0.255122</td>\n",
       "      <td>0.507796</td>\n",
       "      <td>0.561495</td>\n",
       "    </tr>\n",
       "    <tr>\n",
       "      <th>Damage Taken</th>\n",
       "      <td>-0.443081</td>\n",
       "      <td>0.369043</td>\n",
       "      <td>0.248184</td>\n",
       "      <td>0.037167</td>\n",
       "      <td>0.456642</td>\n",
       "      <td>0.349639</td>\n",
       "      <td>0.404715</td>\n",
       "      <td>0.336700</td>\n",
       "      <td>0.255122</td>\n",
       "      <td>1.000000</td>\n",
       "      <td>0.365312</td>\n",
       "      <td>0.155445</td>\n",
       "    </tr>\n",
       "    <tr>\n",
       "      <th>Damage to Players</th>\n",
       "      <td>-0.608608</td>\n",
       "      <td>0.853151</td>\n",
       "      <td>0.265802</td>\n",
       "      <td>0.319366</td>\n",
       "      <td>0.788184</td>\n",
       "      <td>0.623937</td>\n",
       "      <td>0.640265</td>\n",
       "      <td>0.622959</td>\n",
       "      <td>0.507796</td>\n",
       "      <td>0.365312</td>\n",
       "      <td>1.000000</td>\n",
       "      <td>0.557887</td>\n",
       "    </tr>\n",
       "    <tr>\n",
       "      <th>Damage to Structures</th>\n",
       "      <td>-0.579788</td>\n",
       "      <td>0.611652</td>\n",
       "      <td>0.195581</td>\n",
       "      <td>0.136580</td>\n",
       "      <td>0.275422</td>\n",
       "      <td>0.170979</td>\n",
       "      <td>0.704739</td>\n",
       "      <td>0.596698</td>\n",
       "      <td>0.561495</td>\n",
       "      <td>0.155445</td>\n",
       "      <td>0.557887</td>\n",
       "      <td>1.000000</td>\n",
       "    </tr>\n",
       "  </tbody>\n",
       "</table>\n",
       "</div>"
      ],
      "text/plain": [
       "                        Placed  Eliminations   Assists   Revives      Hits  \\\n",
       "Placed                1.000000     -0.620700 -0.379723 -0.308495 -0.443354   \n",
       "Eliminations         -0.620700      1.000000  0.094521  0.266319  0.665995   \n",
       "Assists              -0.379723      0.094521  1.000000  0.239323  0.211216   \n",
       "Revives              -0.308495      0.266319  0.239323  1.000000  0.238168   \n",
       "Hits                 -0.443354      0.665995  0.211216  0.238168  1.000000   \n",
       "Head Shots           -0.316161      0.363349  0.157487  0.176711  0.669589   \n",
       "Distance Traveled    -0.770639      0.698474  0.421262  0.177137  0.403652   \n",
       "Materials Gathered   -0.569598      0.705802  0.186226  0.118319  0.397026   \n",
       "Materials Used       -0.529942      0.635065  0.128232  0.180731  0.249932   \n",
       "Damage Taken         -0.443081      0.369043  0.248184  0.037167  0.456642   \n",
       "Damage to Players    -0.608608      0.853151  0.265802  0.319366  0.788184   \n",
       "Damage to Structures -0.579788      0.611652  0.195581  0.136580  0.275422   \n",
       "\n",
       "                      Head Shots  Distance Traveled  Materials Gathered  \\\n",
       "Placed                 -0.316161          -0.770639           -0.569598   \n",
       "Eliminations            0.363349           0.698474            0.705802   \n",
       "Assists                 0.157487           0.421262            0.186226   \n",
       "Revives                 0.176711           0.177137            0.118319   \n",
       "Hits                    0.669589           0.403652            0.397026   \n",
       "Head Shots              1.000000           0.169609            0.182189   \n",
       "Distance Traveled       0.169609           1.000000            0.761612   \n",
       "Materials Gathered      0.182189           0.761612            1.000000   \n",
       "Materials Used          0.085610           0.743889            0.810661   \n",
       "Damage Taken            0.349639           0.404715            0.336700   \n",
       "Damage to Players       0.623937           0.640265            0.622959   \n",
       "Damage to Structures    0.170979           0.704739            0.596698   \n",
       "\n",
       "                      Materials Used  Damage Taken  Damage to Players  \\\n",
       "Placed                     -0.529942     -0.443081          -0.608608   \n",
       "Eliminations                0.635065      0.369043           0.853151   \n",
       "Assists                     0.128232      0.248184           0.265802   \n",
       "Revives                     0.180731      0.037167           0.319366   \n",
       "Hits                        0.249932      0.456642           0.788184   \n",
       "Head Shots                  0.085610      0.349639           0.623937   \n",
       "Distance Traveled           0.743889      0.404715           0.640265   \n",
       "Materials Gathered          0.810661      0.336700           0.622959   \n",
       "Materials Used              1.000000      0.255122           0.507796   \n",
       "Damage Taken                0.255122      1.000000           0.365312   \n",
       "Damage to Players           0.507796      0.365312           1.000000   \n",
       "Damage to Structures        0.561495      0.155445           0.557887   \n",
       "\n",
       "                      Damage to Structures  \n",
       "Placed                           -0.579788  \n",
       "Eliminations                      0.611652  \n",
       "Assists                           0.195581  \n",
       "Revives                           0.136580  \n",
       "Hits                              0.275422  \n",
       "Head Shots                        0.170979  \n",
       "Distance Traveled                 0.704739  \n",
       "Materials Gathered                0.596698  \n",
       "Materials Used                    0.561495  \n",
       "Damage Taken                      0.155445  \n",
       "Damage to Players                 0.557887  \n",
       "Damage to Structures              1.000000  "
      ]
     },
     "execution_count": 257,
     "metadata": {},
     "output_type": "execute_result"
    }
   ],
   "source": [
    "df.corr()"
   ]
  },
  {
   "cell_type": "code",
   "execution_count": 258,
   "id": "865a005a-215a-4857-b5bf-dc7119e100ef",
   "metadata": {
    "tags": []
   },
   "outputs": [
    {
     "data": {
      "text/plain": [
       "sober    45\n",
       "high     42\n",
       "Name: Mental State, dtype: int64"
      ]
     },
     "execution_count": 258,
     "metadata": {},
     "output_type": "execute_result"
    }
   ],
   "source": [
    "df['Mental State'].value_counts()"
   ]
  },
  {
   "cell_type": "code",
   "execution_count": 259,
   "id": "0007797b-0c89-4f2d-9f79-569a28f02fc1",
   "metadata": {
    "tags": []
   },
   "outputs": [],
   "source": [
    "issober = pd.get_dummies(df['Mental State'],drop_first=True)"
   ]
  },
  {
   "cell_type": "code",
   "execution_count": 260,
   "id": "19bde498-e072-4de3-9905-60b0f25f9602",
   "metadata": {
    "tags": []
   },
   "outputs": [
    {
     "data": {
      "text/plain": [
       "sober\n",
       "1        45\n",
       "0        42\n",
       "dtype: int64"
      ]
     },
     "execution_count": 260,
     "metadata": {},
     "output_type": "execute_result"
    }
   ],
   "source": [
    "issober.value_counts()  ### İS SOBER Object den numeric e çevirildi"
   ]
  },
  {
   "cell_type": "code",
   "execution_count": 261,
   "id": "ff23a663-b0d1-43b3-a3b0-93f6b18c5478",
   "metadata": {
    "tags": []
   },
   "outputs": [],
   "source": [
    "numeric_acc=df['Accuracy'].apply(lambda x : int((x.replace('%','')))/100) ### Kafa vuruş yüzdesini object den numeric e çevirme"
   ]
  },
  {
   "cell_type": "code",
   "execution_count": 262,
   "id": "20843c1e-516f-406f-8e5d-2292bc544b87",
   "metadata": {
    "tags": []
   },
   "outputs": [
    {
     "data": {
      "text/plain": [
       "0     0.23\n",
       "1     0.30\n",
       "2     0.30\n",
       "3     0.18\n",
       "4     0.58\n",
       "      ... \n",
       "82    0.31\n",
       "83    0.20\n",
       "84    0.28\n",
       "85    0.26\n",
       "86    0.31\n",
       "Name: Accuracy, Length: 87, dtype: float64"
      ]
     },
     "execution_count": 262,
     "metadata": {},
     "output_type": "execute_result"
    }
   ],
   "source": [
    "numeric_acc"
   ]
  },
  {
   "cell_type": "code",
   "execution_count": 263,
   "id": "aa90e26f-5e61-4743-88a1-98b62c30204c",
   "metadata": {
    "tags": []
   },
   "outputs": [],
   "source": [
    "df.drop('Date',axis=1,inplace=True)"
   ]
  },
  {
   "cell_type": "code",
   "execution_count": 264,
   "id": "0cf5ea07-d6c7-45fe-a074-656d520f1143",
   "metadata": {
    "tags": []
   },
   "outputs": [
    {
     "data": {
      "text/html": [
       "<div>\n",
       "<style scoped>\n",
       "    .dataframe tbody tr th:only-of-type {\n",
       "        vertical-align: middle;\n",
       "    }\n",
       "\n",
       "    .dataframe tbody tr th {\n",
       "        vertical-align: top;\n",
       "    }\n",
       "\n",
       "    .dataframe thead th {\n",
       "        text-align: right;\n",
       "    }\n",
       "</style>\n",
       "<table border=\"1\" class=\"dataframe\">\n",
       "  <thead>\n",
       "    <tr style=\"text-align: right;\">\n",
       "      <th></th>\n",
       "      <th>Time of Day</th>\n",
       "      <th>Placed</th>\n",
       "      <th>Mental State</th>\n",
       "      <th>Eliminations</th>\n",
       "      <th>Assists</th>\n",
       "      <th>Revives</th>\n",
       "      <th>Accuracy</th>\n",
       "      <th>Hits</th>\n",
       "      <th>Head Shots</th>\n",
       "      <th>Distance Traveled</th>\n",
       "      <th>Materials Gathered</th>\n",
       "      <th>Materials Used</th>\n",
       "      <th>Damage Taken</th>\n",
       "      <th>Damage to Players</th>\n",
       "      <th>Damage to Structures</th>\n",
       "    </tr>\n",
       "  </thead>\n",
       "  <tbody>\n",
       "    <tr>\n",
       "      <th>0</th>\n",
       "      <td>6:00 PM</td>\n",
       "      <td>27</td>\n",
       "      <td>sober</td>\n",
       "      <td>2</td>\n",
       "      <td>0</td>\n",
       "      <td>0</td>\n",
       "      <td>23%</td>\n",
       "      <td>14</td>\n",
       "      <td>2</td>\n",
       "      <td>271.08</td>\n",
       "      <td>20</td>\n",
       "      <td>20</td>\n",
       "      <td>272</td>\n",
       "      <td>331</td>\n",
       "      <td>621</td>\n",
       "    </tr>\n",
       "    <tr>\n",
       "      <th>1</th>\n",
       "      <td>6:00 PM</td>\n",
       "      <td>45</td>\n",
       "      <td>sober</td>\n",
       "      <td>1</td>\n",
       "      <td>2</td>\n",
       "      <td>0</td>\n",
       "      <td>30%</td>\n",
       "      <td>19</td>\n",
       "      <td>1</td>\n",
       "      <td>396.73</td>\n",
       "      <td>123</td>\n",
       "      <td>30</td>\n",
       "      <td>247</td>\n",
       "      <td>444</td>\n",
       "      <td>998</td>\n",
       "    </tr>\n",
       "    <tr>\n",
       "      <th>2</th>\n",
       "      <td>6:00 PM</td>\n",
       "      <td>38</td>\n",
       "      <td>high</td>\n",
       "      <td>3</td>\n",
       "      <td>0</td>\n",
       "      <td>0</td>\n",
       "      <td>30%</td>\n",
       "      <td>32</td>\n",
       "      <td>1</td>\n",
       "      <td>607.80</td>\n",
       "      <td>71</td>\n",
       "      <td>60</td>\n",
       "      <td>176</td>\n",
       "      <td>322</td>\n",
       "      <td>1109</td>\n",
       "    </tr>\n",
       "    <tr>\n",
       "      <th>3</th>\n",
       "      <td>7:00 PM</td>\n",
       "      <td>30</td>\n",
       "      <td>high</td>\n",
       "      <td>1</td>\n",
       "      <td>3</td>\n",
       "      <td>0</td>\n",
       "      <td>18%</td>\n",
       "      <td>19</td>\n",
       "      <td>1</td>\n",
       "      <td>714.16</td>\n",
       "      <td>244</td>\n",
       "      <td>10</td>\n",
       "      <td>238</td>\n",
       "      <td>330</td>\n",
       "      <td>4726</td>\n",
       "    </tr>\n",
       "    <tr>\n",
       "      <th>4</th>\n",
       "      <td>7:00 PM</td>\n",
       "      <td>16</td>\n",
       "      <td>high</td>\n",
       "      <td>3</td>\n",
       "      <td>1</td>\n",
       "      <td>1</td>\n",
       "      <td>58%</td>\n",
       "      <td>42</td>\n",
       "      <td>18</td>\n",
       "      <td>1140.00</td>\n",
       "      <td>584</td>\n",
       "      <td>150</td>\n",
       "      <td>365</td>\n",
       "      <td>668</td>\n",
       "      <td>2070</td>\n",
       "    </tr>\n",
       "  </tbody>\n",
       "</table>\n",
       "</div>"
      ],
      "text/plain": [
       "  Time of Day  Placed Mental State  Eliminations  Assists  Revives Accuracy  \\\n",
       "0     6:00 PM      27        sober             2        0        0      23%   \n",
       "1     6:00 PM      45        sober             1        2        0      30%   \n",
       "2     6:00 PM      38         high             3        0        0      30%   \n",
       "3     7:00 PM      30         high             1        3        0      18%   \n",
       "4     7:00 PM      16         high             3        1        1      58%   \n",
       "\n",
       "   Hits  Head Shots  Distance Traveled  Materials Gathered  Materials Used  \\\n",
       "0    14           2             271.08                  20              20   \n",
       "1    19           1             396.73                 123              30   \n",
       "2    32           1             607.80                  71              60   \n",
       "3    19           1             714.16                 244              10   \n",
       "4    42          18            1140.00                 584             150   \n",
       "\n",
       "   Damage Taken  Damage to Players  Damage to Structures  \n",
       "0           272                331                   621  \n",
       "1           247                444                   998  \n",
       "2           176                322                  1109  \n",
       "3           238                330                  4726  \n",
       "4           365                668                  2070  "
      ]
     },
     "execution_count": 264,
     "metadata": {},
     "output_type": "execute_result"
    }
   ],
   "source": [
    "df.head()"
   ]
  },
  {
   "cell_type": "code",
   "execution_count": 265,
   "id": "f974a6c3-ad28-45c1-a1ea-707d8dbadcfb",
   "metadata": {
    "tags": []
   },
   "outputs": [],
   "source": [
    "isnoon = df['Time of Day'].apply(lambda x : x.split(' ') )"
   ]
  },
  {
   "cell_type": "code",
   "execution_count": 266,
   "id": "78299521-7243-4942-8b0d-7775db901b25",
   "metadata": {
    "tags": []
   },
   "outputs": [
    {
     "data": {
      "text/plain": [
       "'6:00'"
      ]
     },
     "execution_count": 266,
     "metadata": {},
     "output_type": "execute_result"
    }
   ],
   "source": [
    "isnoon[1][0]"
   ]
  },
  {
   "cell_type": "code",
   "execution_count": 267,
   "id": "e40f00b3-7df7-4b4b-92fe-082c68c02149",
   "metadata": {
    "tags": []
   },
   "outputs": [
    {
     "data": {
      "text/plain": [
       "'PM'"
      ]
     },
     "execution_count": 267,
     "metadata": {},
     "output_type": "execute_result"
    }
   ],
   "source": [
    "isnoon[2][1]"
   ]
  },
  {
   "cell_type": "code",
   "execution_count": 268,
   "id": "f56272a0-f48f-4a32-b2ae-323a348dab11",
   "metadata": {
    "tags": []
   },
   "outputs": [
    {
     "data": {
      "text/plain": [
       "0      [6:00, PM]\n",
       "1      [6:00, PM]\n",
       "2      [6:00, PM]\n",
       "3      [7:00, PM]\n",
       "4      [7:00, PM]\n",
       "         ...     \n",
       "82    [12:00, AM]\n",
       "83    [12:00, AM]\n",
       "84     [1:00, PM]\n",
       "85     [2:00, PM]\n",
       "86     [2:00, PM]\n",
       "Name: Time of Day, Length: 87, dtype: object"
      ]
     },
     "execution_count": 268,
     "metadata": {},
     "output_type": "execute_result"
    }
   ],
   "source": [
    "isnoon"
   ]
  },
  {
   "cell_type": "code",
   "execution_count": 269,
   "id": "ad04bf0f-dddd-4486-ab0f-92d729fced83",
   "metadata": {
    "tags": []
   },
   "outputs": [
    {
     "data": {
      "text/plain": [
       "'PM'"
      ]
     },
     "execution_count": 269,
     "metadata": {},
     "output_type": "execute_result"
    }
   ],
   "source": [
    "isnoon[4][1]"
   ]
  },
  {
   "cell_type": "code",
   "execution_count": 270,
   "id": "8b5b8f53-ee5a-4bbf-9749-5b10a9f2c358",
   "metadata": {
    "tags": []
   },
   "outputs": [],
   "source": [
    "isnight = []\n",
    "for i in range(0,87):\n",
    "    a = isnoon[i][1]\n",
    "    isnight.append(a)"
   ]
  },
  {
   "cell_type": "code",
   "execution_count": 271,
   "id": "5ec856b3-9ee3-4649-ad36-180bd2f63c90",
   "metadata": {
    "tags": []
   },
   "outputs": [
    {
     "data": {
      "text/plain": [
       "87"
      ]
     },
     "execution_count": 271,
     "metadata": {},
     "output_type": "execute_result"
    }
   ],
   "source": [
    "len(isnoon)"
   ]
  },
  {
   "cell_type": "code",
   "execution_count": 272,
   "id": "239454e4-f9e4-44a0-8298-fa151b1d838a",
   "metadata": {
    "tags": []
   },
   "outputs": [
    {
     "data": {
      "text/plain": [
       "87"
      ]
     },
     "execution_count": 272,
     "metadata": {},
     "output_type": "execute_result"
    }
   ],
   "source": [
    "len(isnight)"
   ]
  },
  {
   "cell_type": "code",
   "execution_count": 273,
   "id": "ed64b1d0-c97c-413c-aa25-92c4be8668f8",
   "metadata": {
    "tags": []
   },
   "outputs": [
    {
     "data": {
      "text/plain": [
       "[0.23,\n",
       " 0.3,\n",
       " 0.3,\n",
       " 0.18,\n",
       " 0.58,\n",
       " 0.1,\n",
       " 0.25,\n",
       " 0.25,\n",
       " 0.39,\n",
       " 0.35,\n",
       " 0.21,\n",
       " 0.23,\n",
       " 0.18,\n",
       " 0.27,\n",
       " 0.22,\n",
       " 0.2,\n",
       " 0.17,\n",
       " 0.23,\n",
       " 0.27,\n",
       " 0.46,\n",
       " 0.25,\n",
       " 0.25,\n",
       " 0.13,\n",
       " 0.26,\n",
       " 0.26,\n",
       " 0.24,\n",
       " 0.2,\n",
       " 0.04,\n",
       " 0.28,\n",
       " 0.34,\n",
       " 0.17,\n",
       " 0.06,\n",
       " 0.38,\n",
       " 0.12,\n",
       " 0.17,\n",
       " 0.2,\n",
       " 0.22,\n",
       " 0.36,\n",
       " 0.17,\n",
       " 0.26,\n",
       " 0.23,\n",
       " 0.27,\n",
       " 0.08,\n",
       " 0.29,\n",
       " 0.18,\n",
       " 0.04,\n",
       " 0.17,\n",
       " 0.9,\n",
       " 0.35,\n",
       " 0.1,\n",
       " 0.22,\n",
       " 0.24,\n",
       " 0.38,\n",
       " 0.16,\n",
       " 0.44,\n",
       " 0.21,\n",
       " 0.21,\n",
       " 0.38,\n",
       " 0.43,\n",
       " 0.34,\n",
       " 0.25,\n",
       " 0.17,\n",
       " 0.24,\n",
       " 0.16,\n",
       " 0.39,\n",
       " 0.07,\n",
       " 0.11,\n",
       " 0.27,\n",
       " 0.13,\n",
       " 0.11,\n",
       " 0.25,\n",
       " 0.28,\n",
       " 0.16,\n",
       " 0.1,\n",
       " 0.16,\n",
       " 0.34,\n",
       " 0.36,\n",
       " 0.53,\n",
       " 0.45,\n",
       " 0.42,\n",
       " 0.64,\n",
       " 0.33,\n",
       " 0.31,\n",
       " 0.2,\n",
       " 0.28,\n",
       " 0.26,\n",
       " 0.31]"
      ]
     },
     "execution_count": 273,
     "metadata": {},
     "output_type": "execute_result"
    }
   ],
   "source": [
    "list(isnight)\n",
    "list(issober)\n",
    "list(numeric_acc)"
   ]
  },
  {
   "cell_type": "code",
   "execution_count": 274,
   "id": "7bbf7759-5a15-4676-9dd6-c2098523f246",
   "metadata": {
    "tags": []
   },
   "outputs": [],
   "source": [
    "# isnight,numeric_acc,issober dönüştürülmüş değişken isimleri"
   ]
  },
  {
   "cell_type": "code",
   "execution_count": 275,
   "id": "75740bde-f2a4-4ba9-a806-ee18ae9555fb",
   "metadata": {
    "tags": []
   },
   "outputs": [],
   "source": [
    "dicti = {'night':[isnight],\n",
    "         'accuracy':[numeric_acc],\n",
    "         'sober':[issober]}"
   ]
  },
  {
   "cell_type": "code",
   "execution_count": 276,
   "id": "bc08ca5e-2a47-49df-8a1f-5ceec0c3c036",
   "metadata": {
    "tags": []
   },
   "outputs": [],
   "source": [
    "df_to_append = pd.DataFrame.from_dict(dicti)"
   ]
  },
  {
   "cell_type": "code",
   "execution_count": 277,
   "id": "4f0d09b0-cb9b-422e-8aa6-d2e540a39d2a",
   "metadata": {
    "tags": []
   },
   "outputs": [
    {
     "data": {
      "text/html": [
       "<div>\n",
       "<style scoped>\n",
       "    .dataframe tbody tr th:only-of-type {\n",
       "        vertical-align: middle;\n",
       "    }\n",
       "\n",
       "    .dataframe tbody tr th {\n",
       "        vertical-align: top;\n",
       "    }\n",
       "\n",
       "    .dataframe thead th {\n",
       "        text-align: right;\n",
       "    }\n",
       "</style>\n",
       "<table border=\"1\" class=\"dataframe\">\n",
       "  <thead>\n",
       "    <tr style=\"text-align: right;\">\n",
       "      <th></th>\n",
       "      <th>night</th>\n",
       "      <th>accuracy</th>\n",
       "      <th>sober</th>\n",
       "    </tr>\n",
       "  </thead>\n",
       "  <tbody>\n",
       "    <tr>\n",
       "      <th>0</th>\n",
       "      <td>[PM, PM, PM, PM, PM, PM, PM, PM, PM, PM, PM, P...</td>\n",
       "      <td>0     0.23\n",
       "1     0.30\n",
       "2     0.30\n",
       "3     0.18\n",
       "4 ...</td>\n",
       "      <td>sober\n",
       "0       1\n",
       "1       1\n",
       "2       0\n",
       "3     ...</td>\n",
       "    </tr>\n",
       "  </tbody>\n",
       "</table>\n",
       "</div>"
      ],
      "text/plain": [
       "                                               night  \\\n",
       "0  [PM, PM, PM, PM, PM, PM, PM, PM, PM, PM, PM, P...   \n",
       "\n",
       "                                            accuracy  \\\n",
       "0  0     0.23\n",
       "1     0.30\n",
       "2     0.30\n",
       "3     0.18\n",
       "4 ...   \n",
       "\n",
       "                                               sober  \n",
       "0      sober\n",
       "0       1\n",
       "1       1\n",
       "2       0\n",
       "3     ...  "
      ]
     },
     "execution_count": 277,
     "metadata": {},
     "output_type": "execute_result"
    }
   ],
   "source": [
    "df_to_append"
   ]
  },
  {
   "cell_type": "code",
   "execution_count": 278,
   "id": "836103d1-c331-411f-9e1b-721666854359",
   "metadata": {
    "tags": []
   },
   "outputs": [
    {
     "data": {
      "text/html": [
       "<div>\n",
       "<style scoped>\n",
       "    .dataframe tbody tr th:only-of-type {\n",
       "        vertical-align: middle;\n",
       "    }\n",
       "\n",
       "    .dataframe tbody tr th {\n",
       "        vertical-align: top;\n",
       "    }\n",
       "\n",
       "    .dataframe thead th {\n",
       "        text-align: right;\n",
       "    }\n",
       "</style>\n",
       "<table border=\"1\" class=\"dataframe\">\n",
       "  <thead>\n",
       "    <tr style=\"text-align: right;\">\n",
       "      <th></th>\n",
       "      <th>night</th>\n",
       "      <th>sober</th>\n",
       "      <th>accuracy</th>\n",
       "    </tr>\n",
       "  </thead>\n",
       "  <tbody>\n",
       "    <tr>\n",
       "      <th>0</th>\n",
       "      <td>PM</td>\n",
       "      <td>1</td>\n",
       "      <td>0.23</td>\n",
       "    </tr>\n",
       "    <tr>\n",
       "      <th>1</th>\n",
       "      <td>PM</td>\n",
       "      <td>1</td>\n",
       "      <td>0.30</td>\n",
       "    </tr>\n",
       "    <tr>\n",
       "      <th>2</th>\n",
       "      <td>PM</td>\n",
       "      <td>0</td>\n",
       "      <td>0.30</td>\n",
       "    </tr>\n",
       "    <tr>\n",
       "      <th>3</th>\n",
       "      <td>PM</td>\n",
       "      <td>0</td>\n",
       "      <td>0.18</td>\n",
       "    </tr>\n",
       "    <tr>\n",
       "      <th>4</th>\n",
       "      <td>PM</td>\n",
       "      <td>0</td>\n",
       "      <td>0.58</td>\n",
       "    </tr>\n",
       "  </tbody>\n",
       "</table>\n",
       "</div>"
      ],
      "text/plain": [
       "  night  sober  accuracy\n",
       "0    PM      1      0.23\n",
       "1    PM      1      0.30\n",
       "2    PM      0      0.30\n",
       "3    PM      0      0.18\n",
       "4    PM      0      0.58"
      ]
     },
     "execution_count": 278,
     "metadata": {},
     "output_type": "execute_result"
    }
   ],
   "source": [
    "sd = pd.DataFrame(columns=['night','sober','accuracy'])\n",
    "sd['night']=isnight\n",
    "sd['sober']=issober\n",
    "sd['accuracy']=numeric_acc\n",
    "sd.head()"
   ]
  },
  {
   "cell_type": "code",
   "execution_count": 279,
   "id": "86773f00-e1b6-4b29-be91-4e0eabf057dd",
   "metadata": {
    "tags": []
   },
   "outputs": [],
   "source": [
    "adjusted_sd = pd.get_dummies(sd['night'],drop_first=True)"
   ]
  },
  {
   "cell_type": "code",
   "execution_count": 280,
   "id": "14356587-02e7-49b1-b14d-d1827233d91b",
   "metadata": {
    "tags": []
   },
   "outputs": [
    {
     "data": {
      "text/html": [
       "<div>\n",
       "<style scoped>\n",
       "    .dataframe tbody tr th:only-of-type {\n",
       "        vertical-align: middle;\n",
       "    }\n",
       "\n",
       "    .dataframe tbody tr th {\n",
       "        vertical-align: top;\n",
       "    }\n",
       "\n",
       "    .dataframe thead th {\n",
       "        text-align: right;\n",
       "    }\n",
       "</style>\n",
       "<table border=\"1\" class=\"dataframe\">\n",
       "  <thead>\n",
       "    <tr style=\"text-align: right;\">\n",
       "      <th></th>\n",
       "      <th>PM</th>\n",
       "    </tr>\n",
       "  </thead>\n",
       "  <tbody>\n",
       "    <tr>\n",
       "      <th>0</th>\n",
       "      <td>1</td>\n",
       "    </tr>\n",
       "    <tr>\n",
       "      <th>1</th>\n",
       "      <td>1</td>\n",
       "    </tr>\n",
       "    <tr>\n",
       "      <th>2</th>\n",
       "      <td>1</td>\n",
       "    </tr>\n",
       "    <tr>\n",
       "      <th>3</th>\n",
       "      <td>1</td>\n",
       "    </tr>\n",
       "    <tr>\n",
       "      <th>4</th>\n",
       "      <td>1</td>\n",
       "    </tr>\n",
       "    <tr>\n",
       "      <th>...</th>\n",
       "      <td>...</td>\n",
       "    </tr>\n",
       "    <tr>\n",
       "      <th>82</th>\n",
       "      <td>0</td>\n",
       "    </tr>\n",
       "    <tr>\n",
       "      <th>83</th>\n",
       "      <td>0</td>\n",
       "    </tr>\n",
       "    <tr>\n",
       "      <th>84</th>\n",
       "      <td>1</td>\n",
       "    </tr>\n",
       "    <tr>\n",
       "      <th>85</th>\n",
       "      <td>1</td>\n",
       "    </tr>\n",
       "    <tr>\n",
       "      <th>86</th>\n",
       "      <td>1</td>\n",
       "    </tr>\n",
       "  </tbody>\n",
       "</table>\n",
       "<p>87 rows × 1 columns</p>\n",
       "</div>"
      ],
      "text/plain": [
       "    PM\n",
       "0    1\n",
       "1    1\n",
       "2    1\n",
       "3    1\n",
       "4    1\n",
       "..  ..\n",
       "82   0\n",
       "83   0\n",
       "84   1\n",
       "85   1\n",
       "86   1\n",
       "\n",
       "[87 rows x 1 columns]"
      ]
     },
     "execution_count": 280,
     "metadata": {},
     "output_type": "execute_result"
    }
   ],
   "source": [
    "adjusted_sd"
   ]
  },
  {
   "cell_type": "code",
   "execution_count": 281,
   "id": "1f29ba02-b64e-4e36-8d3f-2b7f1c97fb31",
   "metadata": {
    "tags": []
   },
   "outputs": [],
   "source": [
    "sd.drop('night',axis=1,inplace=True)"
   ]
  },
  {
   "cell_type": "code",
   "execution_count": 282,
   "id": "51b2e699-0450-42bb-883c-f3d0edc71594",
   "metadata": {
    "tags": []
   },
   "outputs": [],
   "source": [
    "sd['PM'] = adjusted_sd"
   ]
  },
  {
   "cell_type": "code",
   "execution_count": 283,
   "id": "6663a373-4021-4e47-8d0c-c15adf9f54c0",
   "metadata": {
    "tags": []
   },
   "outputs": [
    {
     "data": {
      "text/html": [
       "<div>\n",
       "<style scoped>\n",
       "    .dataframe tbody tr th:only-of-type {\n",
       "        vertical-align: middle;\n",
       "    }\n",
       "\n",
       "    .dataframe tbody tr th {\n",
       "        vertical-align: top;\n",
       "    }\n",
       "\n",
       "    .dataframe thead th {\n",
       "        text-align: right;\n",
       "    }\n",
       "</style>\n",
       "<table border=\"1\" class=\"dataframe\">\n",
       "  <thead>\n",
       "    <tr style=\"text-align: right;\">\n",
       "      <th></th>\n",
       "      <th>sober</th>\n",
       "      <th>accuracy</th>\n",
       "      <th>PM</th>\n",
       "    </tr>\n",
       "  </thead>\n",
       "  <tbody>\n",
       "    <tr>\n",
       "      <th>0</th>\n",
       "      <td>1</td>\n",
       "      <td>0.23</td>\n",
       "      <td>1</td>\n",
       "    </tr>\n",
       "    <tr>\n",
       "      <th>1</th>\n",
       "      <td>1</td>\n",
       "      <td>0.30</td>\n",
       "      <td>1</td>\n",
       "    </tr>\n",
       "    <tr>\n",
       "      <th>2</th>\n",
       "      <td>0</td>\n",
       "      <td>0.30</td>\n",
       "      <td>1</td>\n",
       "    </tr>\n",
       "    <tr>\n",
       "      <th>3</th>\n",
       "      <td>0</td>\n",
       "      <td>0.18</td>\n",
       "      <td>1</td>\n",
       "    </tr>\n",
       "    <tr>\n",
       "      <th>4</th>\n",
       "      <td>0</td>\n",
       "      <td>0.58</td>\n",
       "      <td>1</td>\n",
       "    </tr>\n",
       "  </tbody>\n",
       "</table>\n",
       "</div>"
      ],
      "text/plain": [
       "   sober  accuracy  PM\n",
       "0      1      0.23   1\n",
       "1      1      0.30   1\n",
       "2      0      0.30   1\n",
       "3      0      0.18   1\n",
       "4      0      0.58   1"
      ]
     },
     "execution_count": 283,
     "metadata": {},
     "output_type": "execute_result"
    }
   ],
   "source": [
    "sd.head()"
   ]
  },
  {
   "cell_type": "code",
   "execution_count": 284,
   "id": "967962d0-ae75-4e28-a957-3c79f7e30dee",
   "metadata": {
    "tags": []
   },
   "outputs": [
    {
     "data": {
      "text/html": [
       "<div>\n",
       "<style scoped>\n",
       "    .dataframe tbody tr th:only-of-type {\n",
       "        vertical-align: middle;\n",
       "    }\n",
       "\n",
       "    .dataframe tbody tr th {\n",
       "        vertical-align: top;\n",
       "    }\n",
       "\n",
       "    .dataframe thead th {\n",
       "        text-align: right;\n",
       "    }\n",
       "</style>\n",
       "<table border=\"1\" class=\"dataframe\">\n",
       "  <thead>\n",
       "    <tr style=\"text-align: right;\">\n",
       "      <th></th>\n",
       "      <th>Time of Day</th>\n",
       "      <th>Placed</th>\n",
       "      <th>Mental State</th>\n",
       "      <th>Eliminations</th>\n",
       "      <th>Assists</th>\n",
       "      <th>Revives</th>\n",
       "      <th>Accuracy</th>\n",
       "      <th>Hits</th>\n",
       "      <th>Head Shots</th>\n",
       "      <th>Distance Traveled</th>\n",
       "      <th>Materials Gathered</th>\n",
       "      <th>Materials Used</th>\n",
       "      <th>Damage Taken</th>\n",
       "      <th>Damage to Players</th>\n",
       "      <th>Damage to Structures</th>\n",
       "    </tr>\n",
       "  </thead>\n",
       "  <tbody>\n",
       "    <tr>\n",
       "      <th>0</th>\n",
       "      <td>6:00 PM</td>\n",
       "      <td>27</td>\n",
       "      <td>sober</td>\n",
       "      <td>2</td>\n",
       "      <td>0</td>\n",
       "      <td>0</td>\n",
       "      <td>23%</td>\n",
       "      <td>14</td>\n",
       "      <td>2</td>\n",
       "      <td>271.08</td>\n",
       "      <td>20</td>\n",
       "      <td>20</td>\n",
       "      <td>272</td>\n",
       "      <td>331</td>\n",
       "      <td>621</td>\n",
       "    </tr>\n",
       "    <tr>\n",
       "      <th>1</th>\n",
       "      <td>6:00 PM</td>\n",
       "      <td>45</td>\n",
       "      <td>sober</td>\n",
       "      <td>1</td>\n",
       "      <td>2</td>\n",
       "      <td>0</td>\n",
       "      <td>30%</td>\n",
       "      <td>19</td>\n",
       "      <td>1</td>\n",
       "      <td>396.73</td>\n",
       "      <td>123</td>\n",
       "      <td>30</td>\n",
       "      <td>247</td>\n",
       "      <td>444</td>\n",
       "      <td>998</td>\n",
       "    </tr>\n",
       "    <tr>\n",
       "      <th>2</th>\n",
       "      <td>6:00 PM</td>\n",
       "      <td>38</td>\n",
       "      <td>high</td>\n",
       "      <td>3</td>\n",
       "      <td>0</td>\n",
       "      <td>0</td>\n",
       "      <td>30%</td>\n",
       "      <td>32</td>\n",
       "      <td>1</td>\n",
       "      <td>607.80</td>\n",
       "      <td>71</td>\n",
       "      <td>60</td>\n",
       "      <td>176</td>\n",
       "      <td>322</td>\n",
       "      <td>1109</td>\n",
       "    </tr>\n",
       "    <tr>\n",
       "      <th>3</th>\n",
       "      <td>7:00 PM</td>\n",
       "      <td>30</td>\n",
       "      <td>high</td>\n",
       "      <td>1</td>\n",
       "      <td>3</td>\n",
       "      <td>0</td>\n",
       "      <td>18%</td>\n",
       "      <td>19</td>\n",
       "      <td>1</td>\n",
       "      <td>714.16</td>\n",
       "      <td>244</td>\n",
       "      <td>10</td>\n",
       "      <td>238</td>\n",
       "      <td>330</td>\n",
       "      <td>4726</td>\n",
       "    </tr>\n",
       "    <tr>\n",
       "      <th>4</th>\n",
       "      <td>7:00 PM</td>\n",
       "      <td>16</td>\n",
       "      <td>high</td>\n",
       "      <td>3</td>\n",
       "      <td>1</td>\n",
       "      <td>1</td>\n",
       "      <td>58%</td>\n",
       "      <td>42</td>\n",
       "      <td>18</td>\n",
       "      <td>1140.00</td>\n",
       "      <td>584</td>\n",
       "      <td>150</td>\n",
       "      <td>365</td>\n",
       "      <td>668</td>\n",
       "      <td>2070</td>\n",
       "    </tr>\n",
       "  </tbody>\n",
       "</table>\n",
       "</div>"
      ],
      "text/plain": [
       "  Time of Day  Placed Mental State  Eliminations  Assists  Revives Accuracy  \\\n",
       "0     6:00 PM      27        sober             2        0        0      23%   \n",
       "1     6:00 PM      45        sober             1        2        0      30%   \n",
       "2     6:00 PM      38         high             3        0        0      30%   \n",
       "3     7:00 PM      30         high             1        3        0      18%   \n",
       "4     7:00 PM      16         high             3        1        1      58%   \n",
       "\n",
       "   Hits  Head Shots  Distance Traveled  Materials Gathered  Materials Used  \\\n",
       "0    14           2             271.08                  20              20   \n",
       "1    19           1             396.73                 123              30   \n",
       "2    32           1             607.80                  71              60   \n",
       "3    19           1             714.16                 244              10   \n",
       "4    42          18            1140.00                 584             150   \n",
       "\n",
       "   Damage Taken  Damage to Players  Damage to Structures  \n",
       "0           272                331                   621  \n",
       "1           247                444                   998  \n",
       "2           176                322                  1109  \n",
       "3           238                330                  4726  \n",
       "4           365                668                  2070  "
      ]
     },
     "execution_count": 284,
     "metadata": {},
     "output_type": "execute_result"
    }
   ],
   "source": [
    "df.head()"
   ]
  },
  {
   "cell_type": "code",
   "execution_count": 285,
   "id": "89b18c97-8176-4a59-85eb-352524b39439",
   "metadata": {
    "tags": []
   },
   "outputs": [],
   "source": [
    "df.drop(['Time of Day','Mental State','Accuracy'],axis=1,inplace=True)"
   ]
  },
  {
   "cell_type": "code",
   "execution_count": 286,
   "id": "f20ada10-1896-4568-9e2b-61cfa32b2241",
   "metadata": {
    "tags": []
   },
   "outputs": [
    {
     "data": {
      "text/html": [
       "<div>\n",
       "<style scoped>\n",
       "    .dataframe tbody tr th:only-of-type {\n",
       "        vertical-align: middle;\n",
       "    }\n",
       "\n",
       "    .dataframe tbody tr th {\n",
       "        vertical-align: top;\n",
       "    }\n",
       "\n",
       "    .dataframe thead th {\n",
       "        text-align: right;\n",
       "    }\n",
       "</style>\n",
       "<table border=\"1\" class=\"dataframe\">\n",
       "  <thead>\n",
       "    <tr style=\"text-align: right;\">\n",
       "      <th></th>\n",
       "      <th>Placed</th>\n",
       "      <th>Eliminations</th>\n",
       "      <th>Assists</th>\n",
       "      <th>Revives</th>\n",
       "      <th>Hits</th>\n",
       "      <th>Head Shots</th>\n",
       "      <th>Distance Traveled</th>\n",
       "      <th>Materials Gathered</th>\n",
       "      <th>Materials Used</th>\n",
       "      <th>Damage Taken</th>\n",
       "      <th>Damage to Players</th>\n",
       "      <th>Damage to Structures</th>\n",
       "    </tr>\n",
       "  </thead>\n",
       "  <tbody>\n",
       "    <tr>\n",
       "      <th>0</th>\n",
       "      <td>27</td>\n",
       "      <td>2</td>\n",
       "      <td>0</td>\n",
       "      <td>0</td>\n",
       "      <td>14</td>\n",
       "      <td>2</td>\n",
       "      <td>271.08</td>\n",
       "      <td>20</td>\n",
       "      <td>20</td>\n",
       "      <td>272</td>\n",
       "      <td>331</td>\n",
       "      <td>621</td>\n",
       "    </tr>\n",
       "    <tr>\n",
       "      <th>1</th>\n",
       "      <td>45</td>\n",
       "      <td>1</td>\n",
       "      <td>2</td>\n",
       "      <td>0</td>\n",
       "      <td>19</td>\n",
       "      <td>1</td>\n",
       "      <td>396.73</td>\n",
       "      <td>123</td>\n",
       "      <td>30</td>\n",
       "      <td>247</td>\n",
       "      <td>444</td>\n",
       "      <td>998</td>\n",
       "    </tr>\n",
       "    <tr>\n",
       "      <th>2</th>\n",
       "      <td>38</td>\n",
       "      <td>3</td>\n",
       "      <td>0</td>\n",
       "      <td>0</td>\n",
       "      <td>32</td>\n",
       "      <td>1</td>\n",
       "      <td>607.80</td>\n",
       "      <td>71</td>\n",
       "      <td>60</td>\n",
       "      <td>176</td>\n",
       "      <td>322</td>\n",
       "      <td>1109</td>\n",
       "    </tr>\n",
       "    <tr>\n",
       "      <th>3</th>\n",
       "      <td>30</td>\n",
       "      <td>1</td>\n",
       "      <td>3</td>\n",
       "      <td>0</td>\n",
       "      <td>19</td>\n",
       "      <td>1</td>\n",
       "      <td>714.16</td>\n",
       "      <td>244</td>\n",
       "      <td>10</td>\n",
       "      <td>238</td>\n",
       "      <td>330</td>\n",
       "      <td>4726</td>\n",
       "    </tr>\n",
       "    <tr>\n",
       "      <th>4</th>\n",
       "      <td>16</td>\n",
       "      <td>3</td>\n",
       "      <td>1</td>\n",
       "      <td>1</td>\n",
       "      <td>42</td>\n",
       "      <td>18</td>\n",
       "      <td>1140.00</td>\n",
       "      <td>584</td>\n",
       "      <td>150</td>\n",
       "      <td>365</td>\n",
       "      <td>668</td>\n",
       "      <td>2070</td>\n",
       "    </tr>\n",
       "  </tbody>\n",
       "</table>\n",
       "</div>"
      ],
      "text/plain": [
       "   Placed  Eliminations  Assists  Revives  Hits  Head Shots  \\\n",
       "0      27             2        0        0    14           2   \n",
       "1      45             1        2        0    19           1   \n",
       "2      38             3        0        0    32           1   \n",
       "3      30             1        3        0    19           1   \n",
       "4      16             3        1        1    42          18   \n",
       "\n",
       "   Distance Traveled  Materials Gathered  Materials Used  Damage Taken  \\\n",
       "0             271.08                  20              20           272   \n",
       "1             396.73                 123              30           247   \n",
       "2             607.80                  71              60           176   \n",
       "3             714.16                 244              10           238   \n",
       "4            1140.00                 584             150           365   \n",
       "\n",
       "   Damage to Players  Damage to Structures  \n",
       "0                331                   621  \n",
       "1                444                   998  \n",
       "2                322                  1109  \n",
       "3                330                  4726  \n",
       "4                668                  2070  "
      ]
     },
     "execution_count": 286,
     "metadata": {},
     "output_type": "execute_result"
    }
   ],
   "source": [
    "df.head()"
   ]
  },
  {
   "cell_type": "code",
   "execution_count": 287,
   "id": "750a94ca-bd92-49d8-9671-827c5b679a80",
   "metadata": {
    "tags": []
   },
   "outputs": [],
   "source": [
    "adjusted_DF=pd.concat([df,sd],axis=1)"
   ]
  },
  {
   "cell_type": "code",
   "execution_count": 288,
   "id": "3eb856e9-e12f-4270-be05-23fb7c080737",
   "metadata": {
    "tags": []
   },
   "outputs": [
    {
     "data": {
      "text/html": [
       "<div>\n",
       "<style scoped>\n",
       "    .dataframe tbody tr th:only-of-type {\n",
       "        vertical-align: middle;\n",
       "    }\n",
       "\n",
       "    .dataframe tbody tr th {\n",
       "        vertical-align: top;\n",
       "    }\n",
       "\n",
       "    .dataframe thead th {\n",
       "        text-align: right;\n",
       "    }\n",
       "</style>\n",
       "<table border=\"1\" class=\"dataframe\">\n",
       "  <thead>\n",
       "    <tr style=\"text-align: right;\">\n",
       "      <th></th>\n",
       "      <th>Placed</th>\n",
       "      <th>Eliminations</th>\n",
       "      <th>Assists</th>\n",
       "      <th>Revives</th>\n",
       "      <th>Hits</th>\n",
       "      <th>Head Shots</th>\n",
       "      <th>Distance Traveled</th>\n",
       "      <th>Materials Gathered</th>\n",
       "      <th>Materials Used</th>\n",
       "      <th>Damage Taken</th>\n",
       "      <th>Damage to Players</th>\n",
       "      <th>Damage to Structures</th>\n",
       "      <th>sober</th>\n",
       "      <th>accuracy</th>\n",
       "      <th>PM</th>\n",
       "    </tr>\n",
       "  </thead>\n",
       "  <tbody>\n",
       "    <tr>\n",
       "      <th>0</th>\n",
       "      <td>27</td>\n",
       "      <td>2</td>\n",
       "      <td>0</td>\n",
       "      <td>0</td>\n",
       "      <td>14</td>\n",
       "      <td>2</td>\n",
       "      <td>271.08</td>\n",
       "      <td>20</td>\n",
       "      <td>20</td>\n",
       "      <td>272</td>\n",
       "      <td>331</td>\n",
       "      <td>621</td>\n",
       "      <td>1</td>\n",
       "      <td>0.23</td>\n",
       "      <td>1</td>\n",
       "    </tr>\n",
       "    <tr>\n",
       "      <th>1</th>\n",
       "      <td>45</td>\n",
       "      <td>1</td>\n",
       "      <td>2</td>\n",
       "      <td>0</td>\n",
       "      <td>19</td>\n",
       "      <td>1</td>\n",
       "      <td>396.73</td>\n",
       "      <td>123</td>\n",
       "      <td>30</td>\n",
       "      <td>247</td>\n",
       "      <td>444</td>\n",
       "      <td>998</td>\n",
       "      <td>1</td>\n",
       "      <td>0.30</td>\n",
       "      <td>1</td>\n",
       "    </tr>\n",
       "    <tr>\n",
       "      <th>2</th>\n",
       "      <td>38</td>\n",
       "      <td>3</td>\n",
       "      <td>0</td>\n",
       "      <td>0</td>\n",
       "      <td>32</td>\n",
       "      <td>1</td>\n",
       "      <td>607.80</td>\n",
       "      <td>71</td>\n",
       "      <td>60</td>\n",
       "      <td>176</td>\n",
       "      <td>322</td>\n",
       "      <td>1109</td>\n",
       "      <td>0</td>\n",
       "      <td>0.30</td>\n",
       "      <td>1</td>\n",
       "    </tr>\n",
       "    <tr>\n",
       "      <th>3</th>\n",
       "      <td>30</td>\n",
       "      <td>1</td>\n",
       "      <td>3</td>\n",
       "      <td>0</td>\n",
       "      <td>19</td>\n",
       "      <td>1</td>\n",
       "      <td>714.16</td>\n",
       "      <td>244</td>\n",
       "      <td>10</td>\n",
       "      <td>238</td>\n",
       "      <td>330</td>\n",
       "      <td>4726</td>\n",
       "      <td>0</td>\n",
       "      <td>0.18</td>\n",
       "      <td>1</td>\n",
       "    </tr>\n",
       "    <tr>\n",
       "      <th>4</th>\n",
       "      <td>16</td>\n",
       "      <td>3</td>\n",
       "      <td>1</td>\n",
       "      <td>1</td>\n",
       "      <td>42</td>\n",
       "      <td>18</td>\n",
       "      <td>1140.00</td>\n",
       "      <td>584</td>\n",
       "      <td>150</td>\n",
       "      <td>365</td>\n",
       "      <td>668</td>\n",
       "      <td>2070</td>\n",
       "      <td>0</td>\n",
       "      <td>0.58</td>\n",
       "      <td>1</td>\n",
       "    </tr>\n",
       "  </tbody>\n",
       "</table>\n",
       "</div>"
      ],
      "text/plain": [
       "   Placed  Eliminations  Assists  Revives  Hits  Head Shots  \\\n",
       "0      27             2        0        0    14           2   \n",
       "1      45             1        2        0    19           1   \n",
       "2      38             3        0        0    32           1   \n",
       "3      30             1        3        0    19           1   \n",
       "4      16             3        1        1    42          18   \n",
       "\n",
       "   Distance Traveled  Materials Gathered  Materials Used  Damage Taken  \\\n",
       "0             271.08                  20              20           272   \n",
       "1             396.73                 123              30           247   \n",
       "2             607.80                  71              60           176   \n",
       "3             714.16                 244              10           238   \n",
       "4            1140.00                 584             150           365   \n",
       "\n",
       "   Damage to Players  Damage to Structures  sober  accuracy  PM  \n",
       "0                331                   621      1      0.23   1  \n",
       "1                444                   998      1      0.30   1  \n",
       "2                322                  1109      0      0.30   1  \n",
       "3                330                  4726      0      0.18   1  \n",
       "4                668                  2070      0      0.58   1  "
      ]
     },
     "execution_count": 288,
     "metadata": {},
     "output_type": "execute_result"
    }
   ],
   "source": [
    "adjusted_DF.head()"
   ]
  },
  {
   "cell_type": "markdown",
   "id": "e1d08d8f-d820-44e0-b961-916f8199e391",
   "metadata": {},
   "source": [
    "İSTEDİĞİM VERİLERİ NUMERİC HALA GETİRDİM"
   ]
  },
  {
   "cell_type": "code",
   "execution_count": 289,
   "id": "903ecc22-8fdc-4dfc-a5b0-46b3a5a11512",
   "metadata": {
    "tags": []
   },
   "outputs": [
    {
     "ename": "SyntaxError",
     "evalue": "invalid syntax (1857496895.py, line 1)",
     "output_type": "error",
     "traceback": [
      "\u001b[0;36m  Cell \u001b[0;32mIn[289], line 1\u001b[0;36m\u001b[0m\n\u001b[0;31m    sns.boxplot(x='Mental State',y='Damage to Players',,data=fortnite)\u001b[0m\n\u001b[0m                                                       ^\u001b[0m\n\u001b[0;31mSyntaxError\u001b[0m\u001b[0;31m:\u001b[0m invalid syntax\n"
     ]
    }
   ],
   "source": [
    "sns.boxplot(x='Mental State',y='Damage to Players',,data=fortnite)"
   ]
  },
  {
   "cell_type": "code",
   "execution_count": 290,
   "id": "05728df4-07bf-41e2-b5fe-88bf2247cb95",
   "metadata": {
    "tags": []
   },
   "outputs": [
    {
     "data": {
      "text/plain": [
       "<Axes: xlabel='sober', ylabel='accuracy'>"
      ]
     },
     "execution_count": 290,
     "metadata": {},
     "output_type": "execute_result"
    },
    {
     "data": {
      "image/png": "[encoded data removed]",
      "text/plain": [
       "<Figure size 640x480 with 1 Axes>"
      ]
     },
     "metadata": {},
     "output_type": "display_data"
    }
   ],
   "source": [
    "sns.boxplot(x='sober',y='accuracy',data=adjusted_DF)"
   ]
  },
  {
   "cell_type": "code",
   "execution_count": 291,
   "id": "8e1f1129-51f2-4c0d-a9df-6ef363c1ff05",
   "metadata": {
    "tags": []
   },
   "outputs": [
    {
     "data": {
      "text/plain": [
       "<Axes: xlabel='Mental State', ylabel='Placed'>"
      ]
     },
     "execution_count": 291,
     "metadata": {},
     "output_type": "execute_result"
    },
    {
     "data": {
      "image/png": "[encoded data removed]",
      "text/plain": [
       "<Figure size 640x480 with 1 Axes>"
      ]
     },
     "metadata": {},
     "output_type": "display_data"
    }
   ],
   "source": [
    "sns.boxplot(x='Mental State',y='Placed',data=fortnite)"
   ]
  },
  {
   "cell_type": "markdown",
   "id": "c933ce28-5925-4151-adee-26e5afd5d63c",
   "metadata": {},
   "source": [
    "BURADA GÖRÜLDÜĞÜ ÜZERE HİGH OLMA DURUMU ALKOLLÜ VEYA UYUŞTURUCU ETKİSİ ALTINDA OLAN OYUNCULAR ARASINDA\n",
    "\n",
    "HİGH OLMA DURUMU PERFORMANSI KÖTÜ ETKİLEMEKTEDİR"
   ]
  },
  {
   "cell_type": "code",
   "execution_count": 292,
   "id": "e5545660-99c8-489b-a910-2b281488dc85",
   "metadata": {
    "tags": []
   },
   "outputs": [
    {
     "data": {
      "text/plain": [
       "<Axes: xlabel='PM', ylabel='accuracy'>"
      ]
     },
     "execution_count": 292,
     "metadata": {},
     "output_type": "execute_result"
    },
    {
     "data": {
      "image/png": "[encoded data removed]",
      "text/plain": [
       "<Figure size 640x480 with 1 Axes>"
      ]
     },
     "metadata": {},
     "output_type": "display_data"
    }
   ],
   "source": [
    "sns.barplot(data=adjusted_DF,x='PM',y='accuracy')"
   ]
  },
  {
   "cell_type": "code",
   "execution_count": 293,
   "id": "0b48f0b9-79e1-4595-89d6-6bc9e1c985ab",
   "metadata": {
    "tags": []
   },
   "outputs": [
    {
     "data": {
      "text/plain": [
       "<Axes: xlabel='PM', ylabel='Placed'>"
      ]
     },
     "execution_count": 293,
     "metadata": {},
     "output_type": "execute_result"
    },
    {
     "data": {
      "image/png": "[encoded data removed]",
      "text/plain": [
       "<Figure size 640x480 with 1 Axes>"
      ]
     },
     "metadata": {},
     "output_type": "display_data"
    }
   ],
   "source": [
    "sns.barplot(data=adjusted_DF,x='PM',y='Placed')"
   ]
  },
  {
   "cell_type": "code",
   "execution_count": 294,
   "id": "142900ba-9a93-4d91-9319-49360838a11a",
   "metadata": {
    "tags": []
   },
   "outputs": [
    {
     "data": {
      "text/plain": [
       "<Axes: xlabel='PM', ylabel='Placed'>"
      ]
     },
     "execution_count": 294,
     "metadata": {},
     "output_type": "execute_result"
    },
    {
     "data": {
      "image/png": "[encoded data removed]",
      "text/plain": [
       "<Figure size 640x480 with 1 Axes>"
      ]
     },
     "metadata": {},
     "output_type": "display_data"
    }
   ],
   "source": [
    "sns.boxplot(x='PM',y='Placed',data=adjusted_DF)"
   ]
  },
  {
   "cell_type": "code",
   "execution_count": 295,
   "id": "1c777d57-1af4-4f5d-afff-8d0ebf55b0ca",
   "metadata": {
    "tags": []
   },
   "outputs": [],
   "source": [
    "## Oyunda sabah AM vakitleri genel sıralamanın daha iyi olduğu görülmekte "
   ]
  },
  {
   "cell_type": "code",
   "execution_count": 296,
   "id": "e5f6fd06-c95a-4b72-b8ae-625c152b48f5",
   "metadata": {
    "tags": []
   },
   "outputs": [
    {
     "data": {
      "text/plain": [
       "<Axes: xlabel='PM', ylabel='count'>"
      ]
     },
     "execution_count": 296,
     "metadata": {},
     "output_type": "execute_result"
    },
    {
     "data": {
      "image/png": "[encoded data removed]",
      "text/plain": [
       "<Figure size 640x480 with 1 Axes>"
      ]
     },
     "metadata": {},
     "output_type": "display_data"
    }
   ],
   "source": [
    "sns.countplot(x='PM',data=adjusted_DF)"
   ]
  },
  {
   "cell_type": "markdown",
   "id": "6b9efea4-cb77-469c-ad15-f45ce1fc69d3",
   "metadata": {},
   "source": [
    "Totale baktığımızda sabah oynayan insan sayısı o kadar az ki bu değerlerindirmeler etki etmektedir\n",
    "\n",
    "YANİ SABAHDAN ALINAN ÖNGÖRÜLER DİKKATE ALINMAMALI ÇÜNKÜ DATA DA EŞİT DAĞILIM GÖZÜKMEMEKTEDİR "
   ]
  },
  {
   "cell_type": "code",
   "execution_count": 297,
   "id": "2f35cbd7-037e-4ae4-813e-dc04a5864183",
   "metadata": {
    "tags": []
   },
   "outputs": [
    {
     "data": {
      "text/plain": [
       "1    85\n",
       "0     2\n",
       "Name: PM, dtype: int64"
      ]
     },
     "execution_count": 297,
     "metadata": {},
     "output_type": "execute_result"
    }
   ],
   "source": [
    "adjusted_DF['PM'].value_counts()"
   ]
  },
  {
   "cell_type": "markdown",
   "id": "c47a4e28-8d62-4383-b4fb-6d78d98b26b6",
   "metadata": {},
   "source": [
    "87 İNSANIN 85 İ OYUNU AKŞAM SAATLERİNDE OYNAMIŞ BU SEBEPLE SABAHDAN KAYNAKLANAN VERİLERİ DİKKATE ALMIYORUM "
   ]
  },
  {
   "cell_type": "code",
   "execution_count": 298,
   "id": "71bdefc0-e89e-4283-99ea-a6d7fdca4060",
   "metadata": {
    "tags": []
   },
   "outputs": [
    {
     "data": {
      "text/plain": [
       "<seaborn.axisgrid.JointGrid at 0x28bd838d0>"
      ]
     },
     "execution_count": 298,
     "metadata": {},
     "output_type": "execute_result"
    },
    {
     "data": {
      "image/png": "[encoded data removed]",
      "text/plain": [
       "<Figure size 600x600 with 3 Axes>"
      ]
     },
     "metadata": {},
     "output_type": "display_data"
    }
   ],
   "source": [
    "sns.jointplot(x='accuracy',y='Damage to Players',data=adjusted_DF)"
   ]
  },
  {
   "cell_type": "markdown",
   "id": "f01ac0b5-5cbb-4b79-9b63-751435cab54d",
   "metadata": {},
   "source": [
    "Accuracy ile damage arasında kayda değer bi bağlantı görülmemektedir aksine hazarın maksimize olduğu aralık\n",
    "0.18 ile 0.4 aralığıdır"
   ]
  },
  {
   "cell_type": "code",
   "execution_count": 299,
   "id": "7be59762-2e4c-4b81-81ba-0aaafe60dd27",
   "metadata": {
    "tags": []
   },
   "outputs": [
    {
     "data": {
      "text/plain": [
       "<seaborn.axisgrid.JointGrid at 0x28be5c8d0>"
      ]
     },
     "execution_count": 299,
     "metadata": {},
     "output_type": "execute_result"
    },
    {
     "data": {
      "image/png": "[encoded data removed]",
      "text/plain": [
       "<Figure size 600x600 with 3 Axes>"
      ]
     },
     "metadata": {},
     "output_type": "display_data"
    }
   ],
   "source": [
    "sns.jointplot(x='Damage to Players',y='Placed',data=adjusted_DF)"
   ]
  },
  {
   "cell_type": "markdown",
   "id": "b80d3379-1be4-47b2-9272-4da7f804f37d",
   "metadata": {},
   "source": [
    "Burada Görüldüğü üzere fazla hasar vermek oyunda sıralamın daha yüksek olması ile bir bağlantısı var\n",
    "\n",
    "ASLINDA BAKARSAK OYUNDAKİ HER BİR DATA DEĞİŞKENİN SIRALAMAYA BİR NEGATİF CORR U BULUNDUĞU GÖZÜKMEKTE SEBEBİ\n",
    "İSE OYUNDA FAZLA KALMAK OYUNDA ÖLMEDEN GEÇİRDİĞİN SÜRE ARTAR İSE OYUNDA SIRALAMAN DA AZALIR DAHA İYİ BİR SIRALAMA\n",
    "BU DA OYUNCULAR OYUNDAKİ DİĞER GÖREVLERİ DAHA FAZLA YAPMASINA ALAN YARATMAKTADIR"
   ]
  },
  {
   "cell_type": "code",
   "execution_count": null,
   "id": "34cb6a85-57ed-49a1-9cb4-28fb6fa4361a",
   "metadata": {},
   "outputs": [],
   "source": []
  },
  {
   "cell_type": "code",
   "execution_count": null,
   "id": "dd61bfc0-8cc5-48d5-90e6-4599ac67499f",
   "metadata": {},
   "outputs": [],
   "source": []
  },
  {
   "cell_type": "code",
   "execution_count": null,
   "id": "c2b231d2-aa41-48c6-9e94-e38a7a428776",
   "metadata": {},
   "outputs": [],
   "source": []
  },
  {
   "cell_type": "code",
   "execution_count": null,
   "id": "395be35c-cec4-4adc-a4d8-abc94cefd82d",
   "metadata": {},
   "outputs": [],
   "source": []
  },
  {
   "cell_type": "code",
   "execution_count": null,
   "id": "c5c90d15-51d6-4c24-819d-e2ca3b7568a0",
   "metadata": {},
   "outputs": [],
   "source": []
  },
  {
   "cell_type": "code",
   "execution_count": null,
   "id": "77498dec-d10a-4f9c-a4a0-9ec21bfc90bf",
   "metadata": {},
   "outputs": [],
   "source": []
  },
  {
   "cell_type": "code",
   "execution_count": null,
   "id": "03a631b8-ecd7-4855-ade5-1638aa51d054",
   "metadata": {},
   "outputs": [],
   "source": []
  },
  {
   "cell_type": "code",
   "execution_count": null,
   "id": "bdaa203a-2ae2-4fb6-8834-99c661c7a7eb",
   "metadata": {},
   "outputs": [],
   "source": []
  },
  {
   "cell_type": "code",
   "execution_count": 300,
   "id": "c61a9793-470d-4fae-9348-9c165da7325b",
   "metadata": {
    "tags": []
   },
   "outputs": [],
   "source": [
    "from sklearn.model_selection import train_test_split\n",
    "from sklearn.linear_model import LinearRegression\n",
    "from sklearn.metrics import classification_report,confusion_matrix\n",
    "from sklearn import metrics"
   ]
  },
  {
   "cell_type": "code",
   "execution_count": 301,
   "id": "cc6ac526-e33f-4d04-8ac7-e51c3a5760cf",
   "metadata": {
    "tags": []
   },
   "outputs": [],
   "source": [
    "X= adjusted_DF.drop('Placed',axis=1)\n",
    "y= adjusted_DF['Placed']\n",
    "\n",
    "X_train, X_test, y_train, y_test = train_test_split(X, y, test_size=0.3, random_state=42)"
   ]
  },
  {
   "cell_type": "code",
   "execution_count": 302,
   "id": "d53651c7-379b-4cba-aeec-96ed3c648dce",
   "metadata": {
    "tags": []
   },
   "outputs": [],
   "source": [
    "lm = LinearRegression()"
   ]
  },
  {
   "cell_type": "code",
   "execution_count": 303,
   "id": "b4a6bc33-ab60-4205-9876-a6f333e6fa14",
   "metadata": {
    "tags": []
   },
   "outputs": [],
   "source": [
    "model = lm.fit(X_train,y_train)"
   ]
  },
  {
   "cell_type": "code",
   "execution_count": 304,
   "id": "d7adbd15-dce0-4e82-9082-94b719c1eb57",
   "metadata": {
    "tags": []
   },
   "outputs": [],
   "source": [
    "predictions = model.predict(X_test)"
   ]
  },
  {
   "cell_type": "code",
   "execution_count": 305,
   "id": "06707b22-f1b7-48ed-ae70-9af061523fd3",
   "metadata": {
    "tags": []
   },
   "outputs": [
    {
     "name": "stdout",
     "output_type": "stream",
     "text": [
      "9.548717182257628\n"
     ]
    }
   ],
   "source": [
    "print(np.sqrt(metrics.mean_squared_error(y_test,predictions)))"
   ]
  },
  {
   "cell_type": "code",
   "execution_count": 306,
   "id": "d89ca1c3-6581-4b66-a806-59680026dd1e",
   "metadata": {
    "tags": []
   },
   "outputs": [
    {
     "name": "stdout",
     "output_type": "stream",
     "text": [
      "6.359031866209364\n"
     ]
    }
   ],
   "source": [
    "print(metrics.mean_absolute_error(y_test,predictions))"
   ]
  },
  {
   "cell_type": "code",
   "execution_count": 307,
   "id": "c9c5dcc4-b609-49d2-b02a-b08cfa67272c",
   "metadata": {
    "tags": []
   },
   "outputs": [
    {
     "data": {
      "text/plain": [
       "1"
      ]
     },
     "execution_count": 307,
     "metadata": {},
     "output_type": "execute_result"
    }
   ],
   "source": [
    "adjusted_DF['Placed'].min()"
   ]
  },
  {
   "cell_type": "code",
   "execution_count": 308,
   "id": "f0168316-e77b-4a04-9734-504547f9698d",
   "metadata": {
    "tags": []
   },
   "outputs": [
    {
     "data": {
      "text/plain": [
       "66"
      ]
     },
     "execution_count": 308,
     "metadata": {},
     "output_type": "execute_result"
    }
   ],
   "source": [
    "adjusted_DF['Placed'].max()"
   ]
  },
  {
   "cell_type": "code",
   "execution_count": 309,
   "id": "726934b1-edd5-4b4d-9055-9b46f43f8832",
   "metadata": {
    "tags": []
   },
   "outputs": [],
   "source": [
    "results = pd.DataFrame()"
   ]
  },
  {
   "cell_type": "code",
   "execution_count": 310,
   "id": "d3819b5f-ce1d-4fc2-bb04-57f4af9e19f5",
   "metadata": {
    "tags": []
   },
   "outputs": [],
   "source": [
    "results['y_test'] = y_test\n",
    "results['predictions'] = predictions"
   ]
  },
  {
   "cell_type": "code",
   "execution_count": 311,
   "id": "d05226a8-5ede-4fc1-b954-946e9fdea5db",
   "metadata": {
    "tags": []
   },
   "outputs": [
    {
     "data": {
      "text/html": [
       "<div>\n",
       "<style scoped>\n",
       "    .dataframe tbody tr th:only-of-type {\n",
       "        vertical-align: middle;\n",
       "    }\n",
       "\n",
       "    .dataframe tbody tr th {\n",
       "        vertical-align: top;\n",
       "    }\n",
       "\n",
       "    .dataframe thead th {\n",
       "        text-align: right;\n",
       "    }\n",
       "</style>\n",
       "<table border=\"1\" class=\"dataframe\">\n",
       "  <thead>\n",
       "    <tr style=\"text-align: right;\">\n",
       "      <th></th>\n",
       "      <th>y_test</th>\n",
       "      <th>predictions</th>\n",
       "    </tr>\n",
       "  </thead>\n",
       "  <tbody>\n",
       "    <tr>\n",
       "      <th>76</th>\n",
       "      <td>15</td>\n",
       "      <td>25.007280</td>\n",
       "    </tr>\n",
       "    <tr>\n",
       "      <th>0</th>\n",
       "      <td>27</td>\n",
       "      <td>29.718331</td>\n",
       "    </tr>\n",
       "    <tr>\n",
       "      <th>26</th>\n",
       "      <td>26</td>\n",
       "      <td>27.173349</td>\n",
       "    </tr>\n",
       "    <tr>\n",
       "      <th>22</th>\n",
       "      <td>66</td>\n",
       "      <td>29.532579</td>\n",
       "    </tr>\n",
       "    <tr>\n",
       "      <th>12</th>\n",
       "      <td>36</td>\n",
       "      <td>31.364807</td>\n",
       "    </tr>\n",
       "    <tr>\n",
       "      <th>67</th>\n",
       "      <td>17</td>\n",
       "      <td>20.129721</td>\n",
       "    </tr>\n",
       "    <tr>\n",
       "      <th>10</th>\n",
       "      <td>35</td>\n",
       "      <td>22.417507</td>\n",
       "    </tr>\n",
       "    <tr>\n",
       "      <th>18</th>\n",
       "      <td>29</td>\n",
       "      <td>28.561516</td>\n",
       "    </tr>\n",
       "    <tr>\n",
       "      <th>4</th>\n",
       "      <td>16</td>\n",
       "      <td>21.068478</td>\n",
       "    </tr>\n",
       "    <tr>\n",
       "      <th>68</th>\n",
       "      <td>13</td>\n",
       "      <td>11.932284</td>\n",
       "    </tr>\n",
       "    <tr>\n",
       "      <th>84</th>\n",
       "      <td>30</td>\n",
       "      <td>31.148467</td>\n",
       "    </tr>\n",
       "    <tr>\n",
       "      <th>65</th>\n",
       "      <td>15</td>\n",
       "      <td>17.135998</td>\n",
       "    </tr>\n",
       "    <tr>\n",
       "      <th>53</th>\n",
       "      <td>4</td>\n",
       "      <td>5.703322</td>\n",
       "    </tr>\n",
       "    <tr>\n",
       "      <th>80</th>\n",
       "      <td>24</td>\n",
       "      <td>33.980635</td>\n",
       "    </tr>\n",
       "    <tr>\n",
       "      <th>83</th>\n",
       "      <td>24</td>\n",
       "      <td>34.740517</td>\n",
       "    </tr>\n",
       "    <tr>\n",
       "      <th>64</th>\n",
       "      <td>23</td>\n",
       "      <td>31.405164</td>\n",
       "    </tr>\n",
       "    <tr>\n",
       "      <th>33</th>\n",
       "      <td>14</td>\n",
       "      <td>13.597682</td>\n",
       "    </tr>\n",
       "    <tr>\n",
       "      <th>79</th>\n",
       "      <td>4</td>\n",
       "      <td>2.626562</td>\n",
       "    </tr>\n",
       "    <tr>\n",
       "      <th>55</th>\n",
       "      <td>48</td>\n",
       "      <td>32.873892</td>\n",
       "    </tr>\n",
       "    <tr>\n",
       "      <th>73</th>\n",
       "      <td>15</td>\n",
       "      <td>19.608586</td>\n",
       "    </tr>\n",
       "    <tr>\n",
       "      <th>11</th>\n",
       "      <td>27</td>\n",
       "      <td>28.499515</td>\n",
       "    </tr>\n",
       "    <tr>\n",
       "      <th>30</th>\n",
       "      <td>2</td>\n",
       "      <td>7.291491</td>\n",
       "    </tr>\n",
       "    <tr>\n",
       "      <th>40</th>\n",
       "      <td>16</td>\n",
       "      <td>25.308740</td>\n",
       "    </tr>\n",
       "    <tr>\n",
       "      <th>28</th>\n",
       "      <td>8</td>\n",
       "      <td>11.436373</td>\n",
       "    </tr>\n",
       "    <tr>\n",
       "      <th>9</th>\n",
       "      <td>24</td>\n",
       "      <td>31.879984</td>\n",
       "    </tr>\n",
       "    <tr>\n",
       "      <th>66</th>\n",
       "      <td>16</td>\n",
       "      <td>23.187388</td>\n",
       "    </tr>\n",
       "    <tr>\n",
       "      <th>5</th>\n",
       "      <td>30</td>\n",
       "      <td>25.822648</td>\n",
       "    </tr>\n",
       "  </tbody>\n",
       "</table>\n",
       "</div>"
      ],
      "text/plain": [
       "    y_test  predictions\n",
       "76      15    25.007280\n",
       "0       27    29.718331\n",
       "26      26    27.173349\n",
       "22      66    29.532579\n",
       "12      36    31.364807\n",
       "67      17    20.129721\n",
       "10      35    22.417507\n",
       "18      29    28.561516\n",
       "4       16    21.068478\n",
       "68      13    11.932284\n",
       "84      30    31.148467\n",
       "65      15    17.135998\n",
       "53       4     5.703322\n",
       "80      24    33.980635\n",
       "83      24    34.740517\n",
       "64      23    31.405164\n",
       "33      14    13.597682\n",
       "79       4     2.626562\n",
       "55      48    32.873892\n",
       "73      15    19.608586\n",
       "11      27    28.499515\n",
       "30       2     7.291491\n",
       "40      16    25.308740\n",
       "28       8    11.436373\n",
       "9       24    31.879984\n",
       "66      16    23.187388\n",
       "5       30    25.822648"
      ]
     },
     "execution_count": 311,
     "metadata": {},
     "output_type": "execute_result"
    }
   ],
   "source": [
    "results"
   ]
  },
  {
   "cell_type": "markdown",
   "id": "25c2771c-f2e3-4b28-b308-173e2fd85100",
   "metadata": {},
   "source": [
    "çook çook kötü olduğunu söyleyemem "
   ]
  },
  {
   "cell_type": "code",
   "execution_count": 312,
   "id": "cc75d8ad-3783-45cc-8011-1f6b3359be5e",
   "metadata": {
    "tags": []
   },
   "outputs": [],
   "source": [
    "Sornot = []\n",
    "\n",
    "for x in adjusted_DF['Placed']:\n",
    "    if x <= 10:\n",
    "        b='successful'\n",
    "        Sornot.append(b)\n",
    "    elif x>10:\n",
    "        b='unsuccessful'\n",
    "        Sornot.append(b)"
   ]
  },
  {
   "cell_type": "code",
   "execution_count": 313,
   "id": "1917a52a-30c5-42a6-a9c3-5ea0c8674a21",
   "metadata": {
    "tags": []
   },
   "outputs": [
    {
     "data": {
      "text/plain": [
       "['unsuccessful',\n",
       " 'unsuccessful',\n",
       " 'unsuccessful',\n",
       " 'unsuccessful',\n",
       " 'unsuccessful',\n",
       " 'unsuccessful',\n",
       " 'unsuccessful',\n",
       " 'unsuccessful',\n",
       " 'unsuccessful',\n",
       " 'unsuccessful',\n",
       " 'unsuccessful',\n",
       " 'unsuccessful',\n",
       " 'unsuccessful',\n",
       " 'unsuccessful',\n",
       " 'unsuccessful',\n",
       " 'successful',\n",
       " 'successful',\n",
       " 'unsuccessful',\n",
       " 'unsuccessful',\n",
       " 'unsuccessful']"
      ]
     },
     "execution_count": 313,
     "metadata": {},
     "output_type": "execute_result"
    }
   ],
   "source": [
    "Sornot[0:20]"
   ]
  },
  {
   "cell_type": "code",
   "execution_count": 314,
   "id": "05074524-488f-4692-9b1e-a4734b7799ef",
   "metadata": {
    "tags": []
   },
   "outputs": [
    {
     "data": {
      "text/plain": [
       "0     27\n",
       "1     45\n",
       "2     38\n",
       "3     30\n",
       "4     16\n",
       "5     30\n",
       "6     20\n",
       "7     29\n",
       "8     21\n",
       "9     24\n",
       "10    35\n",
       "11    27\n",
       "12    36\n",
       "13    27\n",
       "14    17\n",
       "15     4\n",
       "16     5\n",
       "17    20\n",
       "18    29\n",
       "19    28\n",
       "Name: Placed, dtype: int64"
      ]
     },
     "execution_count": 314,
     "metadata": {},
     "output_type": "execute_result"
    }
   ],
   "source": [
    "adjusted_DF['Placed'][0:20]"
   ]
  },
  {
   "cell_type": "code",
   "execution_count": 315,
   "id": "cebb8e32-37e6-498f-b24c-a38bdf2dbc31",
   "metadata": {
    "tags": []
   },
   "outputs": [
    {
     "data": {
      "text/plain": [
       "True     71\n",
       "False    16\n",
       "Name: Placed, dtype: int64"
      ]
     },
     "execution_count": 315,
     "metadata": {},
     "output_type": "execute_result"
    }
   ],
   "source": [
    "(adjusted_DF['Placed']>10).value_counts()"
   ]
  },
  {
   "cell_type": "code",
   "execution_count": 316,
   "id": "aa7fa9fc-4b01-4186-8137-414a3061e2f0",
   "metadata": {
    "tags": []
   },
   "outputs": [],
   "source": [
    "Logistic_df= pd.DataFrame()"
   ]
  },
  {
   "cell_type": "code",
   "execution_count": null,
   "id": "d9ea1894-b850-435a-87b2-03bbe8d633c1",
   "metadata": {
    "tags": []
   },
   "outputs": [],
   "source": []
  },
  {
   "cell_type": "code",
   "execution_count": 317,
   "id": "261d6e55-6fad-48a6-9a39-763148ae53f4",
   "metadata": {
    "tags": []
   },
   "outputs": [],
   "source": [
    "Logistic_df = adjusted_DF"
   ]
  },
  {
   "cell_type": "code",
   "execution_count": 318,
   "id": "5d574945-f4f5-41db-a52e-bb5b2b5409d0",
   "metadata": {
    "tags": []
   },
   "outputs": [],
   "source": [
    "Logistic_df['isSuccessfully'] = Sornot"
   ]
  },
  {
   "cell_type": "code",
   "execution_count": 319,
   "id": "2e82b962-4ce0-468b-98c7-28dfd3e5a877",
   "metadata": {
    "tags": []
   },
   "outputs": [
    {
     "data": {
      "text/html": [
       "<div>\n",
       "<style scoped>\n",
       "    .dataframe tbody tr th:only-of-type {\n",
       "        vertical-align: middle;\n",
       "    }\n",
       "\n",
       "    .dataframe tbody tr th {\n",
       "        vertical-align: top;\n",
       "    }\n",
       "\n",
       "    .dataframe thead th {\n",
       "        text-align: right;\n",
       "    }\n",
       "</style>\n",
       "<table border=\"1\" class=\"dataframe\">\n",
       "  <thead>\n",
       "    <tr style=\"text-align: right;\">\n",
       "      <th></th>\n",
       "      <th>Placed</th>\n",
       "      <th>Eliminations</th>\n",
       "      <th>Assists</th>\n",
       "      <th>Revives</th>\n",
       "      <th>Hits</th>\n",
       "      <th>Head Shots</th>\n",
       "      <th>Distance Traveled</th>\n",
       "      <th>Materials Gathered</th>\n",
       "      <th>Materials Used</th>\n",
       "      <th>Damage Taken</th>\n",
       "      <th>Damage to Players</th>\n",
       "      <th>Damage to Structures</th>\n",
       "      <th>sober</th>\n",
       "      <th>accuracy</th>\n",
       "      <th>PM</th>\n",
       "      <th>isSuccessfully</th>\n",
       "    </tr>\n",
       "  </thead>\n",
       "  <tbody>\n",
       "    <tr>\n",
       "      <th>0</th>\n",
       "      <td>27</td>\n",
       "      <td>2</td>\n",
       "      <td>0</td>\n",
       "      <td>0</td>\n",
       "      <td>14</td>\n",
       "      <td>2</td>\n",
       "      <td>271.08</td>\n",
       "      <td>20</td>\n",
       "      <td>20</td>\n",
       "      <td>272</td>\n",
       "      <td>331</td>\n",
       "      <td>621</td>\n",
       "      <td>1</td>\n",
       "      <td>0.23</td>\n",
       "      <td>1</td>\n",
       "      <td>unsuccessful</td>\n",
       "    </tr>\n",
       "    <tr>\n",
       "      <th>1</th>\n",
       "      <td>45</td>\n",
       "      <td>1</td>\n",
       "      <td>2</td>\n",
       "      <td>0</td>\n",
       "      <td>19</td>\n",
       "      <td>1</td>\n",
       "      <td>396.73</td>\n",
       "      <td>123</td>\n",
       "      <td>30</td>\n",
       "      <td>247</td>\n",
       "      <td>444</td>\n",
       "      <td>998</td>\n",
       "      <td>1</td>\n",
       "      <td>0.30</td>\n",
       "      <td>1</td>\n",
       "      <td>unsuccessful</td>\n",
       "    </tr>\n",
       "    <tr>\n",
       "      <th>2</th>\n",
       "      <td>38</td>\n",
       "      <td>3</td>\n",
       "      <td>0</td>\n",
       "      <td>0</td>\n",
       "      <td>32</td>\n",
       "      <td>1</td>\n",
       "      <td>607.80</td>\n",
       "      <td>71</td>\n",
       "      <td>60</td>\n",
       "      <td>176</td>\n",
       "      <td>322</td>\n",
       "      <td>1109</td>\n",
       "      <td>0</td>\n",
       "      <td>0.30</td>\n",
       "      <td>1</td>\n",
       "      <td>unsuccessful</td>\n",
       "    </tr>\n",
       "    <tr>\n",
       "      <th>3</th>\n",
       "      <td>30</td>\n",
       "      <td>1</td>\n",
       "      <td>3</td>\n",
       "      <td>0</td>\n",
       "      <td>19</td>\n",
       "      <td>1</td>\n",
       "      <td>714.16</td>\n",
       "      <td>244</td>\n",
       "      <td>10</td>\n",
       "      <td>238</td>\n",
       "      <td>330</td>\n",
       "      <td>4726</td>\n",
       "      <td>0</td>\n",
       "      <td>0.18</td>\n",
       "      <td>1</td>\n",
       "      <td>unsuccessful</td>\n",
       "    </tr>\n",
       "    <tr>\n",
       "      <th>4</th>\n",
       "      <td>16</td>\n",
       "      <td>3</td>\n",
       "      <td>1</td>\n",
       "      <td>1</td>\n",
       "      <td>42</td>\n",
       "      <td>18</td>\n",
       "      <td>1140.00</td>\n",
       "      <td>584</td>\n",
       "      <td>150</td>\n",
       "      <td>365</td>\n",
       "      <td>668</td>\n",
       "      <td>2070</td>\n",
       "      <td>0</td>\n",
       "      <td>0.58</td>\n",
       "      <td>1</td>\n",
       "      <td>unsuccessful</td>\n",
       "    </tr>\n",
       "  </tbody>\n",
       "</table>\n",
       "</div>"
      ],
      "text/plain": [
       "   Placed  Eliminations  Assists  Revives  Hits  Head Shots  \\\n",
       "0      27             2        0        0    14           2   \n",
       "1      45             1        2        0    19           1   \n",
       "2      38             3        0        0    32           1   \n",
       "3      30             1        3        0    19           1   \n",
       "4      16             3        1        1    42          18   \n",
       "\n",
       "   Distance Traveled  Materials Gathered  Materials Used  Damage Taken  \\\n",
       "0             271.08                  20              20           272   \n",
       "1             396.73                 123              30           247   \n",
       "2             607.80                  71              60           176   \n",
       "3             714.16                 244              10           238   \n",
       "4            1140.00                 584             150           365   \n",
       "\n",
       "   Damage to Players  Damage to Structures  sober  accuracy  PM isSuccessfully  \n",
       "0                331                   621      1      0.23   1   unsuccessful  \n",
       "1                444                   998      1      0.30   1   unsuccessful  \n",
       "2                322                  1109      0      0.30   1   unsuccessful  \n",
       "3                330                  4726      0      0.18   1   unsuccessful  \n",
       "4                668                  2070      0      0.58   1   unsuccessful  "
      ]
     },
     "execution_count": 319,
     "metadata": {},
     "output_type": "execute_result"
    }
   ],
   "source": [
    "Logistic_df.head()"
   ]
  },
  {
   "cell_type": "code",
   "execution_count": 320,
   "id": "28426164-a71a-4529-af11-19307cc4a2c5",
   "metadata": {
    "tags": []
   },
   "outputs": [],
   "source": [
    "from sklearn.linear_model import LogisticRegression"
   ]
  },
  {
   "cell_type": "code",
   "execution_count": 321,
   "id": "7866ccd7-cb40-4a33-876c-e6b4ce6866c2",
   "metadata": {
    "tags": []
   },
   "outputs": [],
   "source": [
    "X= Logistic_df.drop('isSuccessfully',axis=1)\n",
    "y= Logistic_df['isSuccessfully']\n",
    "\n",
    "X_train, X_test, y_train, y_test = train_test_split(X, y, test_size=0.3, random_state=42)"
   ]
  },
  {
   "cell_type": "code",
   "execution_count": 322,
   "id": "70b42e85-a6f8-400f-b5ee-ca6c59d243d7",
   "metadata": {
    "tags": []
   },
   "outputs": [
    {
     "name": "stderr",
     "output_type": "stream",
     "text": [
      "/Users/aniltek/anaconda3/lib/python3.11/site-packages/sklearn/linear_model/_logistic.py:460: ConvergenceWarning: lbfgs failed to converge (status=1):\n",
      "STOP: TOTAL NO. of ITERATIONS REACHED LIMIT.\n",
      "\n",
      "Increase the number of iterations (max_iter) or scale the data as shown in:\n",
      "    https://scikit-learn.org/stable/modules/preprocessing.html\n",
      "Please also refer to the documentation for alternative solver options:\n",
      "    https://scikit-learn.org/stable/modules/linear_model.html#logistic-regression\n",
      "  n_iter_i = _check_optimize_result(\n"
     ]
    }
   ],
   "source": [
    "lr = LogisticRegression()\n",
    "model = lr.fit(X_train,y_train)\n",
    "predictLR = model.predict(X_test) "
   ]
  },
  {
   "cell_type": "code",
   "execution_count": 323,
   "id": "f28286f7-2042-4572-a4d9-2101d9b621a4",
   "metadata": {
    "tags": []
   },
   "outputs": [
    {
     "name": "stdout",
     "output_type": "stream",
     "text": [
      "              precision    recall  f1-score   support\n",
      "\n",
      "  successful       1.00      0.75      0.86         4\n",
      "unsuccessful       0.96      1.00      0.98        23\n",
      "\n",
      "    accuracy                           0.96        27\n",
      "   macro avg       0.98      0.88      0.92        27\n",
      "weighted avg       0.96      0.96      0.96        27\n",
      "\n",
      "[[ 3  1]\n",
      " [ 0 23]]\n"
     ]
    }
   ],
   "source": [
    "print(classification_report(y_test,predictLR))\n",
    "print(confusion_matrix(y_test,predictLR))"
   ]
  },
  {
   "cell_type": "markdown",
   "id": "bb2a6292-467c-4488-81de-fe5c7b3e5e74",
   "metadata": {},
   "source": [
    "BU BAŞARILI GİBİ SANKİ "
   ]
  },
  {
   "cell_type": "code",
   "execution_count": null,
   "id": "b74a1023-ddd8-405b-ac35-5d1db7161e55",
   "metadata": {
    "tags": []
   },
   "outputs": [],
   "source": []
  },
  {
   "cell_type": "code",
   "execution_count": null,
   "id": "264671dc-e5ac-45ba-b64f-a6208c5f0f88",
   "metadata": {
    "tags": []
   },
   "outputs": [],
   "source": []
  },
  {
   "cell_type": "code",
   "execution_count": null,
   "id": "aa9c8904-29ec-40ca-b548-e35afd1fc1a6",
   "metadata": {},
   "outputs": [],
   "source": []
  }
 ],
 "metadata": {
  "kernelspec": {
   "display_name": "Python 3 (ipykernel)",
   "language": "python",
   "name": "python3"
  },
  "language_info": {
   "codemirror_mode": {
    "name": "ipython",
    "version": 3
   },
   "file_extension": ".py",
   "mimetype": "text/x-python",
   "name": "python",
   "nbconvert_exporter": "python",
   "pygments_lexer": "ipython3",
   "version": "3.11.4"
  }
 },
 "nbformat": 4,
 "nbformat_minor": 5
}
